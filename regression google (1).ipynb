{
 "cells": [
  {
   "cell_type": "code",
   "execution_count": 1,
   "id": "e2202f65-49b3-4858-842e-1fb3f320c24d",
   "metadata": {},
   "outputs": [],
   "source": [
    "import numpy as np\n",
    "import pandas as pd\n",
    "\n",
    "from tabulate import tabulate\n",
    "\n",
    "from sklearn.datasets import load_diabetes\n",
    "from sklearn.preprocessing import StandardScaler\n",
    "from sklearn.model_selection import cross_val_score, train_test_split\n",
    "from sklearn.linear_model import LinearRegression, SGDRegressor\n",
    "from sklearn.metrics import mean_squared_error, mean_absolute_error, explained_variance_score\n",
    "\n",
    "import warnings\n",
    "warnings.filterwarnings(\"ignore\")\n",
    "\n",
    "import matplotlib.pyplot as plt\n",
    "%matplotlib inline"
   ]
  },
  {
   "cell_type": "code",
   "execution_count": 2,
   "id": "ffb1a9aa-c93b-41bd-ace7-c6125666752f",
   "metadata": {},
   "outputs": [],
   "source": [
    "inp0= pd.read_csv(\"./googleplaystore.csv\")"
   ]
  },
  {
   "cell_type": "code",
   "execution_count": 3,
   "id": "9f2be2b0-f451-4f2e-a7c6-23469f59ef54",
   "metadata": {},
   "outputs": [
    {
     "name": "stdout",
     "output_type": "stream",
     "text": [
      "Index(['App', 'Category', 'Rating', 'Reviews', 'Size', 'Installs', 'Type',\n",
      "       'Price', 'Content_Rating', 'Genres', 'Last Updated', 'Current Ver',\n",
      "       'Android Ver'],\n",
      "      dtype='object')\n"
     ]
    }
   ],
   "source": [
    "print(inp0.keys())"
   ]
  },
  {
   "cell_type": "code",
   "execution_count": 4,
   "id": "b030d63d-9afe-496c-a26b-02a61994b252",
   "metadata": {},
   "outputs": [
    {
     "data": {
      "text/plain": [
       "App                  0\n",
       "Category             0\n",
       "Rating            1474\n",
       "Reviews              0\n",
       "Size                 0\n",
       "Installs             0\n",
       "Type                 1\n",
       "Price                0\n",
       "Content_Rating       1\n",
       "Genres               0\n",
       "Last Updated         0\n",
       "Current Ver          8\n",
       "Android Ver          3\n",
       "dtype: int64"
      ]
     },
     "execution_count": 4,
     "metadata": {},
     "output_type": "execute_result"
    }
   ],
   "source": [
    "inp0.isnull().sum(axis=0)"
   ]
  },
  {
   "cell_type": "code",
   "execution_count": 5,
   "id": "a65bc38c-544d-496d-8561-468ea0ec78db",
   "metadata": {},
   "outputs": [],
   "source": [
    "inp0.dropna(how ='any', inplace = True)"
   ]
  },
  {
   "cell_type": "code",
   "execution_count": 6,
   "id": "fd57530e-9475-40e3-9761-cba22adf560f",
   "metadata": {},
   "outputs": [
    {
     "data": {
      "text/plain": [
       "App               0\n",
       "Category          0\n",
       "Rating            0\n",
       "Reviews           0\n",
       "Size              0\n",
       "Installs          0\n",
       "Type              0\n",
       "Price             0\n",
       "Content_Rating    0\n",
       "Genres            0\n",
       "Last Updated      0\n",
       "Current Ver       0\n",
       "Android Ver       0\n",
       "dtype: int64"
      ]
     },
     "execution_count": 6,
     "metadata": {},
     "output_type": "execute_result"
    }
   ],
   "source": [
    "inp0.isnull().sum(axis=0)"
   ]
  },
  {
   "cell_type": "code",
   "execution_count": 7,
   "id": "232d5582-f14e-4035-b225-ed0f45e4babe",
   "metadata": {},
   "outputs": [
    {
     "data": {
      "text/plain": [
       "0        8715\n",
       "$2.99     114\n",
       "$0.99     106\n",
       "$4.99      70\n",
       "$1.99      59\n",
       "Name: Price, dtype: int64"
      ]
     },
     "execution_count": 7,
     "metadata": {},
     "output_type": "execute_result"
    }
   ],
   "source": [
    "inp0.Price.value_counts()[:5]"
   ]
  },
  {
   "cell_type": "code",
   "execution_count": 8,
   "id": "7409da28-eb3d-4783-9458-946cca579516",
   "metadata": {},
   "outputs": [],
   "source": [
    "#Modifying the column\n",
    "inp0['Price'] = inp0.Price.map(lambda x: 0 if x=='0' else float(x[1:]))"
   ]
  },
  {
   "cell_type": "code",
   "execution_count": 9,
   "id": "d5cc2d59-07a3-4f2b-8dfa-718400be134a",
   "metadata": {},
   "outputs": [],
   "source": [
    "#Converting reviews to numeric\n",
    "inp0.Reviews = inp0.Reviews.astype(\"int32\")"
   ]
  },
  {
   "cell_type": "code",
   "execution_count": 10,
   "id": "042636de-e70f-4202-b152-03cd24ab6111",
   "metadata": {},
   "outputs": [
    {
     "data": {
      "text/plain": [
       "count    9.360000e+03\n",
       "mean     5.143767e+05\n",
       "std      3.145023e+06\n",
       "min      1.000000e+00\n",
       "25%      1.867500e+02\n",
       "50%      5.955000e+03\n",
       "75%      8.162750e+04\n",
       "max      7.815831e+07\n",
       "Name: Reviews, dtype: float64"
      ]
     },
     "execution_count": 10,
     "metadata": {},
     "output_type": "execute_result"
    }
   ],
   "source": [
    "inp0.Reviews.describe()"
   ]
  },
  {
   "cell_type": "code",
   "execution_count": 11,
   "id": "c2703c27-69b4-4093-8fbf-0a6888e590a7",
   "metadata": {},
   "outputs": [
    {
     "data": {
      "text/plain": [
       "1,000,000+        1576\n",
       "10,000,000+       1252\n",
       "100,000+          1150\n",
       "10,000+           1009\n",
       "5,000,000+         752\n",
       "1,000+             712\n",
       "500,000+           537\n",
       "50,000+            466\n",
       "5,000+             431\n",
       "100,000,000+       409\n",
       "100+               309\n",
       "50,000,000+        289\n",
       "500+               201\n",
       "500,000,000+        72\n",
       "10+                 69\n",
       "1,000,000,000+      58\n",
       "50+                 56\n",
       "5+                   9\n",
       "1+                   3\n",
       "Name: Installs, dtype: int64"
      ]
     },
     "execution_count": 11,
     "metadata": {},
     "output_type": "execute_result"
    }
   ],
   "source": [
    "#Handling the installs column\n",
    "inp0.Installs.value_counts()"
   ]
  },
  {
   "cell_type": "code",
   "execution_count": 12,
   "id": "436e9030-2e84-45c4-add7-13499e0fbb82",
   "metadata": {},
   "outputs": [],
   "source": [
    "def clean_installs(val):\n",
    "    return int(val.replace(\",\",\"\").replace(\"+\",\"\"))"
   ]
  },
  {
   "cell_type": "code",
   "execution_count": 13,
   "id": "40757941-1d98-443e-acc7-f005bbace5bb",
   "metadata": {},
   "outputs": [],
   "source": [
    "inp0.Installs = inp0.Installs.map(clean_installs)"
   ]
  },
  {
   "cell_type": "code",
   "execution_count": 14,
   "id": "be65a266-ee61-422a-bdb5-7d86a93aa5a7",
   "metadata": {},
   "outputs": [
    {
     "data": {
      "text/plain": [
       "count    9.360000e+03\n",
       "mean     1.790875e+07\n",
       "std      9.126637e+07\n",
       "min      1.000000e+00\n",
       "25%      1.000000e+04\n",
       "50%      5.000000e+05\n",
       "75%      5.000000e+06\n",
       "max      1.000000e+09\n",
       "Name: Installs, dtype: float64"
      ]
     },
     "execution_count": 14,
     "metadata": {},
     "output_type": "execute_result"
    }
   ],
   "source": [
    "inp0.Installs.describe()"
   ]
  },
  {
   "cell_type": "code",
   "execution_count": 15,
   "id": "70283523-6700-4142-8690-8af23df0d30b",
   "metadata": {},
   "outputs": [],
   "source": [
    "#Handling the app size field\n",
    "def change_size(size):\n",
    "    if 'M' in size:\n",
    "        x = size[:-1]\n",
    "        x = float(x)*1000\n",
    "        return(x)\n",
    "    elif 'k' == size[-1:]:\n",
    "        x = size[:-1]\n",
    "        x = float(x)\n",
    "        return(x)\n",
    "    else:\n",
    "        return None"
   ]
  },
  {
   "cell_type": "code",
   "execution_count": 16,
   "id": "855725d2-6bf5-48f4-b72c-3a365b397042",
   "metadata": {},
   "outputs": [],
   "source": [
    "inp0[\"Size\"] = inp0[\"Size\"].map(change_size)"
   ]
  },
  {
   "cell_type": "code",
   "execution_count": 17,
   "id": "8dc54046-9c3a-44c7-aa5f-bbcee093c69d",
   "metadata": {},
   "outputs": [
    {
     "data": {
      "text/plain": [
       "count      7723.000000\n",
       "mean      22970.456105\n",
       "std       23449.628935\n",
       "min           8.500000\n",
       "25%        5300.000000\n",
       "50%       14000.000000\n",
       "75%       33000.000000\n",
       "max      100000.000000\n",
       "Name: Size, dtype: float64"
      ]
     },
     "execution_count": 17,
     "metadata": {},
     "output_type": "execute_result"
    }
   ],
   "source": [
    "inp0.Size.describe()"
   ]
  },
  {
   "cell_type": "code",
   "execution_count": 18,
   "id": "42ff7954-e161-4763-9b6f-01914007ce0c",
   "metadata": {},
   "outputs": [],
   "source": [
    "inp0.Size.fillna(method = 'ffill', inplace = True)"
   ]
  },
  {
   "cell_type": "code",
   "execution_count": 19,
   "id": "b8b708cf-4c8a-4113-b9d8-911288e7d9ee",
   "metadata": {},
   "outputs": [
    {
     "data": {
      "text/plain": [
       "App                object\n",
       "Category           object\n",
       "Rating            float64\n",
       "Reviews             int32\n",
       "Size              float64\n",
       "Installs            int64\n",
       "Type               object\n",
       "Price             float64\n",
       "Content_Rating     object\n",
       "Genres             object\n",
       "Last Updated       object\n",
       "Current Ver        object\n",
       "Android Ver        object\n",
       "dtype: object"
      ]
     },
     "execution_count": 19,
     "metadata": {},
     "output_type": "execute_result"
    }
   ],
   "source": [
    "inp0.dtypes"
   ]
  },
  {
   "cell_type": "code",
   "execution_count": 20,
   "id": "4d8750d7-0f15-4eef-bb3e-8ef6279506cc",
   "metadata": {},
   "outputs": [],
   "source": [
    "inp0 = inp0[inp0.Reviews <= inp0.Installs].copy()"
   ]
  },
  {
   "cell_type": "code",
   "execution_count": 21,
   "id": "980bd1ae-211b-4f8e-a3f2-6673d879f603",
   "metadata": {},
   "outputs": [
    {
     "data": {
      "text/plain": [
       "(9353, 13)"
      ]
     },
     "execution_count": 21,
     "metadata": {},
     "output_type": "execute_result"
    }
   ],
   "source": [
    "inp0.shape"
   ]
  },
  {
   "cell_type": "code",
   "execution_count": 22,
   "id": "a54966f9-51d4-44d9-ab40-36429d7441b7",
   "metadata": {},
   "outputs": [
    {
     "data": {
      "text/plain": [
       "(9338, 13)"
      ]
     },
     "execution_count": 22,
     "metadata": {},
     "output_type": "execute_result"
    }
   ],
   "source": [
    "inp0 = inp0[inp0.Price <= 200].copy()\n",
    "inp0.shape"
   ]
  },
  {
   "cell_type": "code",
   "execution_count": 23,
   "id": "ca2dcfda-1006-4674-ad64-26ecd5c282a8",
   "metadata": {},
   "outputs": [
    {
     "data": {
      "text/plain": [
       "(8885, 13)"
      ]
     },
     "execution_count": 23,
     "metadata": {},
     "output_type": "execute_result"
    }
   ],
   "source": [
    "inp0 = inp0[inp0.Reviews <= 2000000]\n",
    "inp0.shape"
   ]
  },
  {
   "cell_type": "code",
   "execution_count": 24,
   "id": "ad7d4ee6-2168-40bb-a4e8-061981f50226",
   "metadata": {},
   "outputs": [
    {
     "data": {
      "text/plain": [
       "6"
      ]
     },
     "execution_count": 24,
     "metadata": {},
     "output_type": "execute_result"
    }
   ],
   "source": [
    "len(inp0[inp0.Installs >= 1000000000])"
   ]
  },
  {
   "cell_type": "code",
   "execution_count": 25,
   "id": "cf151dcc-bca9-407f-b7d9-bae3b4eb71fe",
   "metadata": {},
   "outputs": [
    {
     "data": {
      "text/plain": [
       "(8879, 13)"
      ]
     },
     "execution_count": 25,
     "metadata": {},
     "output_type": "execute_result"
    }
   ],
   "source": [
    "inp0 = inp0[inp0.Installs < 1000000000].copy()\n",
    "inp0.shape"
   ]
  },
  {
   "cell_type": "code",
   "execution_count": 26,
   "id": "540912b4-1db4-42bd-9493-54775e00d542",
   "metadata": {},
   "outputs": [],
   "source": [
    "import warnings\n",
    "warnings.filterwarnings(\"ignore\")"
   ]
  },
  {
   "cell_type": "code",
   "execution_count": 27,
   "id": "c79541a3-bbfc-4d13-9f31-ce3dd669432a",
   "metadata": {},
   "outputs": [],
   "source": [
    "inp1 = inp0.copy()"
   ]
  },
  {
   "cell_type": "code",
   "execution_count": 28,
   "id": "3c6a871a-06c1-4082-95b3-421373638e79",
   "metadata": {},
   "outputs": [
    {
     "data": {
      "text/plain": [
       "count    8.879000e+03\n",
       "mean     5.595862e+06\n",
       "std      2.421042e+07\n",
       "min      5.000000e+00\n",
       "25%      1.000000e+04\n",
       "50%      5.000000e+05\n",
       "75%      5.000000e+06\n",
       "max      5.000000e+08\n",
       "Name: Installs, dtype: float64"
      ]
     },
     "execution_count": 28,
     "metadata": {},
     "output_type": "execute_result"
    }
   ],
   "source": [
    "inp0.Installs.describe()"
   ]
  },
  {
   "cell_type": "code",
   "execution_count": 29,
   "id": "b4a04c31-97cb-4ad8-be94-d81377f68d31",
   "metadata": {},
   "outputs": [],
   "source": [
    "inp1.Installs = inp1.Installs.apply(np.log1p)"
   ]
  },
  {
   "cell_type": "code",
   "execution_count": 30,
   "id": "27813cd9-7f68-40d7-8bd2-498a41bf8ebd",
   "metadata": {},
   "outputs": [],
   "source": [
    "inp1.Reviews = inp1.Reviews.apply(np.log1p)"
   ]
  },
  {
   "cell_type": "code",
   "execution_count": 31,
   "id": "2769b1b8-0ea1-48e5-a37c-b8f4df079975",
   "metadata": {},
   "outputs": [
    {
     "data": {
      "text/plain": [
       "(8879, 9)"
      ]
     },
     "execution_count": 31,
     "metadata": {},
     "output_type": "execute_result"
    }
   ],
   "source": [
    "inp1.drop([\"App\", \"Last Updated\", \"Current Ver\", \"Android Ver\"], axis=1, inplace=True)\n",
    "inp1.shape"
   ]
  },
  {
   "cell_type": "code",
   "execution_count": 32,
   "id": "afead39f-8141-42cc-bf5e-0e9a7b65a8c4",
   "metadata": {},
   "outputs": [],
   "source": [
    "inp2 = pd.get_dummies(inp1, drop_first=True)"
   ]
  },
  {
   "cell_type": "code",
   "execution_count": 33,
   "id": "83101da2-ad0b-4cef-90b0-307842fabbb5",
   "metadata": {},
   "outputs": [
    {
     "data": {
      "text/plain": [
       "Index(['Rating', 'Reviews', 'Size', 'Installs', 'Price',\n",
       "       'Category_AUTO_AND_VEHICLES', 'Category_BEAUTY',\n",
       "       'Category_BOOKS_AND_REFERENCE', 'Category_BUSINESS', 'Category_COMICS',\n",
       "       ...\n",
       "       'Genres_Tools', 'Genres_Tools_Education', 'Genres_Travel_&_Local',\n",
       "       'Genres_Travel_&_Local_Action_&_Adventure', 'Genres_Trivia',\n",
       "       'Genres_Video_Players_&_Editors',\n",
       "       'Genres_Video_Players_&_Editors_Creativity',\n",
       "       'Genres_Video_Players_&_Editors_Music_&_Video', 'Genres_Weather',\n",
       "       'Genres_Word'],\n",
       "      dtype='object', length=157)"
      ]
     },
     "execution_count": 33,
     "metadata": {},
     "output_type": "execute_result"
    }
   ],
   "source": [
    "inp2.columns"
   ]
  },
  {
   "cell_type": "code",
   "execution_count": null,
   "id": "8df988d8-1924-4b34-96ba-7545a986475f",
   "metadata": {},
   "outputs": [],
   "source": []
  },
  {
   "cell_type": "code",
   "execution_count": 34,
   "id": "8b60fdfe-77e2-413f-afa7-ea6edfe9593b",
   "metadata": {},
   "outputs": [],
   "source": [
    "from sklearn.model_selection import train_test_split\n"
   ]
  },
  {
   "cell_type": "code",
   "execution_count": 35,
   "id": "5ecb9fee-761a-43a9-b9c9-ef591f50f22d",
   "metadata": {},
   "outputs": [],
   "source": [
    "df_train, df_test = train_test_split(inp2, train_size = 0.7, random_state = 100)"
   ]
  },
  {
   "cell_type": "code",
   "execution_count": 36,
   "id": "11bb113f-28ee-484b-933f-bf1df0caf6f1",
   "metadata": {},
   "outputs": [
    {
     "data": {
      "text/plain": [
       "((6215, 157), (2664, 157))"
      ]
     },
     "execution_count": 36,
     "metadata": {},
     "output_type": "execute_result"
    }
   ],
   "source": [
    "df_train.shape, df_test.shape"
   ]
  },
  {
   "cell_type": "code",
   "execution_count": 37,
   "id": "0a178f5c-e8f1-4141-97f6-0ff48c6852cd",
   "metadata": {},
   "outputs": [],
   "source": [
    "y_train = df_train.pop(\"Rating\")\n",
    "x_train = df_train"
   ]
  },
  {
   "cell_type": "code",
   "execution_count": 38,
   "id": "d9618dfb-e1de-4b34-aece-dd54daa82f41",
   "metadata": {},
   "outputs": [
    {
     "data": {
      "text/html": [
       "<div>\n",
       "<style scoped>\n",
       "    .dataframe tbody tr th:only-of-type {\n",
       "        vertical-align: middle;\n",
       "    }\n",
       "\n",
       "    .dataframe tbody tr th {\n",
       "        vertical-align: top;\n",
       "    }\n",
       "\n",
       "    .dataframe thead th {\n",
       "        text-align: right;\n",
       "    }\n",
       "</style>\n",
       "<table border=\"1\" class=\"dataframe\">\n",
       "  <thead>\n",
       "    <tr style=\"text-align: right;\">\n",
       "      <th></th>\n",
       "      <th>Reviews</th>\n",
       "      <th>Size</th>\n",
       "      <th>Installs</th>\n",
       "      <th>Price</th>\n",
       "      <th>Category_AUTO_AND_VEHICLES</th>\n",
       "      <th>Category_BEAUTY</th>\n",
       "      <th>Category_BOOKS_AND_REFERENCE</th>\n",
       "      <th>Category_BUSINESS</th>\n",
       "      <th>Category_COMICS</th>\n",
       "      <th>Category_COMMUNICATION</th>\n",
       "      <th>...</th>\n",
       "      <th>Genres_Tools</th>\n",
       "      <th>Genres_Tools_Education</th>\n",
       "      <th>Genres_Travel_&amp;_Local</th>\n",
       "      <th>Genres_Travel_&amp;_Local_Action_&amp;_Adventure</th>\n",
       "      <th>Genres_Trivia</th>\n",
       "      <th>Genres_Video_Players_&amp;_Editors</th>\n",
       "      <th>Genres_Video_Players_&amp;_Editors_Creativity</th>\n",
       "      <th>Genres_Video_Players_&amp;_Editors_Music_&amp;_Video</th>\n",
       "      <th>Genres_Weather</th>\n",
       "      <th>Genres_Word</th>\n",
       "    </tr>\n",
       "  </thead>\n",
       "  <tbody>\n",
       "    <tr>\n",
       "      <th>1279</th>\n",
       "      <td>7.63627</td>\n",
       "      <td>6900.0</td>\n",
       "      <td>11.512935</td>\n",
       "      <td>0.0</td>\n",
       "      <td>0</td>\n",
       "      <td>0</td>\n",
       "      <td>0</td>\n",
       "      <td>0</td>\n",
       "      <td>0</td>\n",
       "      <td>0</td>\n",
       "      <td>...</td>\n",
       "      <td>0</td>\n",
       "      <td>0</td>\n",
       "      <td>0</td>\n",
       "      <td>0</td>\n",
       "      <td>0</td>\n",
       "      <td>0</td>\n",
       "      <td>0</td>\n",
       "      <td>0</td>\n",
       "      <td>0</td>\n",
       "      <td>0</td>\n",
       "    </tr>\n",
       "  </tbody>\n",
       "</table>\n",
       "<p>1 rows × 156 columns</p>\n",
       "</div>"
      ],
      "text/plain": [
       "      Reviews    Size   Installs  Price  Category_AUTO_AND_VEHICLES  \\\n",
       "1279  7.63627  6900.0  11.512935    0.0                           0   \n",
       "\n",
       "      Category_BEAUTY  Category_BOOKS_AND_REFERENCE  Category_BUSINESS  \\\n",
       "1279                0                             0                  0   \n",
       "\n",
       "      Category_COMICS  Category_COMMUNICATION  ...  Genres_Tools  \\\n",
       "1279                0                       0  ...             0   \n",
       "\n",
       "      Genres_Tools_Education  Genres_Travel_&_Local  \\\n",
       "1279                       0                      0   \n",
       "\n",
       "      Genres_Travel_&_Local_Action_&_Adventure  Genres_Trivia  \\\n",
       "1279                                         0              0   \n",
       "\n",
       "      Genres_Video_Players_&_Editors  \\\n",
       "1279                               0   \n",
       "\n",
       "      Genres_Video_Players_&_Editors_Creativity  \\\n",
       "1279                                          0   \n",
       "\n",
       "      Genres_Video_Players_&_Editors_Music_&_Video  Genres_Weather  \\\n",
       "1279                                             0               0   \n",
       "\n",
       "      Genres_Word  \n",
       "1279            0  \n",
       "\n",
       "[1 rows x 156 columns]"
      ]
     },
     "execution_count": 38,
     "metadata": {},
     "output_type": "execute_result"
    }
   ],
   "source": [
    "x_train.head(1)"
   ]
  },
  {
   "cell_type": "code",
   "execution_count": 39,
   "id": "57b80bdb-bef2-44eb-a6a1-b3c656c00cc2",
   "metadata": {},
   "outputs": [],
   "source": [
    "y_test = df_test.pop(\"Rating\")\n",
    "x_test = df_test"
   ]
  },
  {
   "cell_type": "code",
   "execution_count": 40,
   "id": "f6c44139-302c-438d-80f1-79571cdf96d7",
   "metadata": {},
   "outputs": [
    {
     "data": {
      "text/html": [
       "<div>\n",
       "<style scoped>\n",
       "    .dataframe tbody tr th:only-of-type {\n",
       "        vertical-align: middle;\n",
       "    }\n",
       "\n",
       "    .dataframe tbody tr th {\n",
       "        vertical-align: top;\n",
       "    }\n",
       "\n",
       "    .dataframe thead th {\n",
       "        text-align: right;\n",
       "    }\n",
       "</style>\n",
       "<table border=\"1\" class=\"dataframe\">\n",
       "  <thead>\n",
       "    <tr style=\"text-align: right;\">\n",
       "      <th></th>\n",
       "      <th>Reviews</th>\n",
       "      <th>Size</th>\n",
       "      <th>Installs</th>\n",
       "      <th>Price</th>\n",
       "      <th>Category_AUTO_AND_VEHICLES</th>\n",
       "      <th>Category_BEAUTY</th>\n",
       "      <th>Category_BOOKS_AND_REFERENCE</th>\n",
       "      <th>Category_BUSINESS</th>\n",
       "      <th>Category_COMICS</th>\n",
       "      <th>Category_COMMUNICATION</th>\n",
       "      <th>...</th>\n",
       "      <th>Genres_Tools</th>\n",
       "      <th>Genres_Tools_Education</th>\n",
       "      <th>Genres_Travel_&amp;_Local</th>\n",
       "      <th>Genres_Travel_&amp;_Local_Action_&amp;_Adventure</th>\n",
       "      <th>Genres_Trivia</th>\n",
       "      <th>Genres_Video_Players_&amp;_Editors</th>\n",
       "      <th>Genres_Video_Players_&amp;_Editors_Creativity</th>\n",
       "      <th>Genres_Video_Players_&amp;_Editors_Music_&amp;_Video</th>\n",
       "      <th>Genres_Weather</th>\n",
       "      <th>Genres_Word</th>\n",
       "    </tr>\n",
       "  </thead>\n",
       "  <tbody>\n",
       "    <tr>\n",
       "      <th>1161</th>\n",
       "      <td>9.329456</td>\n",
       "      <td>24000.0</td>\n",
       "      <td>13.815512</td>\n",
       "      <td>0.0</td>\n",
       "      <td>0</td>\n",
       "      <td>0</td>\n",
       "      <td>0</td>\n",
       "      <td>0</td>\n",
       "      <td>0</td>\n",
       "      <td>0</td>\n",
       "      <td>...</td>\n",
       "      <td>0</td>\n",
       "      <td>0</td>\n",
       "      <td>0</td>\n",
       "      <td>0</td>\n",
       "      <td>0</td>\n",
       "      <td>0</td>\n",
       "      <td>0</td>\n",
       "      <td>0</td>\n",
       "      <td>0</td>\n",
       "      <td>0</td>\n",
       "    </tr>\n",
       "  </tbody>\n",
       "</table>\n",
       "<p>1 rows × 156 columns</p>\n",
       "</div>"
      ],
      "text/plain": [
       "       Reviews     Size   Installs  Price  Category_AUTO_AND_VEHICLES  \\\n",
       "1161  9.329456  24000.0  13.815512    0.0                           0   \n",
       "\n",
       "      Category_BEAUTY  Category_BOOKS_AND_REFERENCE  Category_BUSINESS  \\\n",
       "1161                0                             0                  0   \n",
       "\n",
       "      Category_COMICS  Category_COMMUNICATION  ...  Genres_Tools  \\\n",
       "1161                0                       0  ...             0   \n",
       "\n",
       "      Genres_Tools_Education  Genres_Travel_&_Local  \\\n",
       "1161                       0                      0   \n",
       "\n",
       "      Genres_Travel_&_Local_Action_&_Adventure  Genres_Trivia  \\\n",
       "1161                                         0              0   \n",
       "\n",
       "      Genres_Video_Players_&_Editors  \\\n",
       "1161                               0   \n",
       "\n",
       "      Genres_Video_Players_&_Editors_Creativity  \\\n",
       "1161                                          0   \n",
       "\n",
       "      Genres_Video_Players_&_Editors_Music_&_Video  Genres_Weather  \\\n",
       "1161                                             0               0   \n",
       "\n",
       "      Genres_Word  \n",
       "1161            0  \n",
       "\n",
       "[1 rows x 156 columns]"
      ]
     },
     "execution_count": 40,
     "metadata": {},
     "output_type": "execute_result"
    }
   ],
   "source": [
    "x_test.head(1)"
   ]
  },
  {
   "cell_type": "code",
   "execution_count": 41,
   "id": "d6e1c490-e5f4-467a-893a-8917b2b3ed0a",
   "metadata": {},
   "outputs": [],
   "source": [
    "import statsmodels.api as sm"
   ]
  },
  {
   "cell_type": "code",
   "execution_count": 42,
   "id": "d837cdb6-f5e9-4bc6-a6bc-2b92ce8633d6",
   "metadata": {},
   "outputs": [],
   "source": [
    "#Applying linear regression\n",
    "model1 = sm.OLS(y_train, x_train)"
   ]
  },
  {
   "cell_type": "code",
   "execution_count": 43,
   "id": "c9e0240c-e521-449f-bafc-62303a6da1ca",
   "metadata": {},
   "outputs": [],
   "source": [
    "model1 = model1.fit()"
   ]
  },
  {
   "cell_type": "code",
   "execution_count": 44,
   "id": "740aa249-963a-4008-98ac-8499191eae99",
   "metadata": {},
   "outputs": [
    {
     "data": {
      "text/html": [
       "<table class=\"simpletable\">\n",
       "<caption>OLS Regression Results</caption>\n",
       "<tr>\n",
       "  <th>Dep. Variable:</th>         <td>Rating</td>      <th>  R-squared (uncentered):</th>      <td>   0.987</td>\n",
       "</tr>\n",
       "<tr>\n",
       "  <th>Model:</th>                   <td>OLS</td>       <th>  Adj. R-squared (uncentered):</th> <td>   0.987</td>\n",
       "</tr>\n",
       "<tr>\n",
       "  <th>Method:</th>             <td>Least Squares</td>  <th>  F-statistic:       </th>          <td>   3717.</td>\n",
       "</tr>\n",
       "<tr>\n",
       "  <th>Date:</th>             <td>Sat, 02 Sep 2023</td> <th>  Prob (F-statistic):</th>           <td>  0.00</td> \n",
       "</tr>\n",
       "<tr>\n",
       "  <th>Time:</th>                 <td>12:15:22</td>     <th>  Log-Likelihood:    </th>          <td> -4281.7</td>\n",
       "</tr>\n",
       "<tr>\n",
       "  <th>No. Observations:</th>      <td>  6215</td>      <th>  AIC:               </th>          <td>   8811.</td>\n",
       "</tr>\n",
       "<tr>\n",
       "  <th>Df Residuals:</th>          <td>  6091</td>      <th>  BIC:               </th>          <td>   9646.</td>\n",
       "</tr>\n",
       "<tr>\n",
       "  <th>Df Model:</th>              <td>   124</td>      <th>                     </th>              <td> </td>   \n",
       "</tr>\n",
       "<tr>\n",
       "  <th>Covariance Type:</th>      <td>nonrobust</td>    <th>                     </th>              <td> </td>   \n",
       "</tr>\n",
       "</table>\n",
       "<table class=\"simpletable\">\n",
       "<tr>\n",
       "                        <td></td>                          <th>coef</th>     <th>std err</th>      <th>t</th>      <th>P>|t|</th>  <th>[0.025</th>    <th>0.975]</th>  \n",
       "</tr>\n",
       "<tr>\n",
       "  <th>Reviews</th>                                      <td>    0.1752</td> <td>    0.006</td> <td>   28.037</td> <td> 0.000</td> <td>    0.163</td> <td>    0.187</td>\n",
       "</tr>\n",
       "<tr>\n",
       "  <th>Size</th>                                         <td>-2.896e-07</td> <td> 3.37e-07</td> <td>   -0.859</td> <td> 0.391</td> <td>-9.51e-07</td> <td> 3.72e-07</td>\n",
       "</tr>\n",
       "<tr>\n",
       "  <th>Installs</th>                                     <td>   -0.1499</td> <td>    0.006</td> <td>  -24.184</td> <td> 0.000</td> <td>   -0.162</td> <td>   -0.138</td>\n",
       "</tr>\n",
       "<tr>\n",
       "  <th>Price</th>                                        <td>    0.0006</td> <td>    0.003</td> <td>    0.177</td> <td> 0.860</td> <td>   -0.006</td> <td>    0.007</td>\n",
       "</tr>\n",
       "<tr>\n",
       "  <th>Category_AUTO_AND_VEHICLES</th>                   <td>    1.6381</td> <td>    0.125</td> <td>   13.136</td> <td> 0.000</td> <td>    1.394</td> <td>    1.883</td>\n",
       "</tr>\n",
       "<tr>\n",
       "  <th>Category_BEAUTY</th>                              <td>    1.7213</td> <td>    0.128</td> <td>   13.462</td> <td> 0.000</td> <td>    1.471</td> <td>    1.972</td>\n",
       "</tr>\n",
       "<tr>\n",
       "  <th>Category_BOOKS_AND_REFERENCE</th>                 <td>    1.6843</td> <td>    0.122</td> <td>   13.826</td> <td> 0.000</td> <td>    1.445</td> <td>    1.923</td>\n",
       "</tr>\n",
       "<tr>\n",
       "  <th>Category_BUSINESS</th>                            <td>    1.6046</td> <td>    0.121</td> <td>   13.272</td> <td> 0.000</td> <td>    1.368</td> <td>    1.842</td>\n",
       "</tr>\n",
       "<tr>\n",
       "  <th>Category_COMICS</th>                              <td>    2.3786</td> <td>    0.226</td> <td>   10.517</td> <td> 0.000</td> <td>    1.935</td> <td>    2.822</td>\n",
       "</tr>\n",
       "<tr>\n",
       "  <th>Category_COMMUNICATION</th>                       <td>    1.5478</td> <td>    0.121</td> <td>   12.765</td> <td> 0.000</td> <td>    1.310</td> <td>    1.786</td>\n",
       "</tr>\n",
       "<tr>\n",
       "  <th>Category_DATING</th>                              <td>    1.5013</td> <td>    0.122</td> <td>   12.262</td> <td> 0.000</td> <td>    1.261</td> <td>    1.741</td>\n",
       "</tr>\n",
       "<tr>\n",
       "  <th>Category_EDUCATION</th>                           <td>    2.8642</td> <td>    0.251</td> <td>   11.419</td> <td> 0.000</td> <td>    2.373</td> <td>    3.356</td>\n",
       "</tr>\n",
       "<tr>\n",
       "  <th>Category_ENTERTAINMENT</th>                       <td>    2.7757</td> <td>    0.251</td> <td>   11.065</td> <td> 0.000</td> <td>    2.284</td> <td>    3.267</td>\n",
       "</tr>\n",
       "<tr>\n",
       "  <th>Category_EVENTS</th>                              <td>    1.7447</td> <td>    0.126</td> <td>   13.792</td> <td> 0.000</td> <td>    1.497</td> <td>    1.993</td>\n",
       "</tr>\n",
       "<tr>\n",
       "  <th>Category_FAMILY</th>                              <td>    2.8988</td> <td>    0.243</td> <td>   11.920</td> <td> 0.000</td> <td>    2.422</td> <td>    3.376</td>\n",
       "</tr>\n",
       "<tr>\n",
       "  <th>Category_FINANCE</th>                             <td>    1.5685</td> <td>    0.121</td> <td>   12.976</td> <td> 0.000</td> <td>    1.332</td> <td>    1.806</td>\n",
       "</tr>\n",
       "<tr>\n",
       "  <th>Category_FOOD_AND_DRINK</th>                      <td>    1.5993</td> <td>    0.123</td> <td>   13.006</td> <td> 0.000</td> <td>    1.358</td> <td>    1.840</td>\n",
       "</tr>\n",
       "<tr>\n",
       "  <th>Category_GAME</th>                                <td>    3.1390</td> <td>    0.241</td> <td>   13.046</td> <td> 0.000</td> <td>    2.667</td> <td>    3.611</td>\n",
       "</tr>\n",
       "<tr>\n",
       "  <th>Category_HEALTH_AND_FITNESS</th>                  <td>    1.6296</td> <td>    0.121</td> <td>   13.464</td> <td> 0.000</td> <td>    1.392</td> <td>    1.867</td>\n",
       "</tr>\n",
       "<tr>\n",
       "  <th>Category_HOUSE_AND_HOME</th>                      <td>    1.6151</td> <td>    0.124</td> <td>   13.002</td> <td> 0.000</td> <td>    1.372</td> <td>    1.859</td>\n",
       "</tr>\n",
       "<tr>\n",
       "  <th>Category_LIBRARIES_AND_DEMO</th>                  <td>    1.6541</td> <td>    0.125</td> <td>   13.247</td> <td> 0.000</td> <td>    1.409</td> <td>    1.899</td>\n",
       "</tr>\n",
       "<tr>\n",
       "  <th>Category_LIFESTYLE</th>                           <td>    1.5913</td> <td>    0.121</td> <td>   13.156</td> <td> 0.000</td> <td>    1.354</td> <td>    1.828</td>\n",
       "</tr>\n",
       "<tr>\n",
       "  <th>Category_MAPS_AND_NAVIGATION</th>                 <td>    1.5212</td> <td>    0.123</td> <td>   12.399</td> <td> 0.000</td> <td>    1.281</td> <td>    1.762</td>\n",
       "</tr>\n",
       "<tr>\n",
       "  <th>Category_MEDICAL</th>                             <td>    1.6353</td> <td>    0.121</td> <td>   13.543</td> <td> 0.000</td> <td>    1.399</td> <td>    1.872</td>\n",
       "</tr>\n",
       "<tr>\n",
       "  <th>Category_NEWS_AND_MAGAZINES</th>                  <td>    1.5639</td> <td>    0.121</td> <td>   12.897</td> <td> 0.000</td> <td>    1.326</td> <td>    1.802</td>\n",
       "</tr>\n",
       "<tr>\n",
       "  <th>Category_PARENTING</th>                           <td>    2.5348</td> <td>    0.213</td> <td>   11.914</td> <td> 0.000</td> <td>    2.118</td> <td>    2.952</td>\n",
       "</tr>\n",
       "<tr>\n",
       "  <th>Category_PERSONALIZATION</th>                     <td>    1.6774</td> <td>    0.121</td> <td>   13.866</td> <td> 0.000</td> <td>    1.440</td> <td>    1.915</td>\n",
       "</tr>\n",
       "<tr>\n",
       "  <th>Category_PHOTOGRAPHY</th>                         <td>    1.5848</td> <td>    0.121</td> <td>   13.077</td> <td> 0.000</td> <td>    1.347</td> <td>    1.822</td>\n",
       "</tr>\n",
       "<tr>\n",
       "  <th>Category_PRODUCTIVITY</th>                        <td>    1.6213</td> <td>    0.121</td> <td>   13.399</td> <td> 0.000</td> <td>    1.384</td> <td>    1.859</td>\n",
       "</tr>\n",
       "<tr>\n",
       "  <th>Category_SHOPPING</th>                            <td>    1.6088</td> <td>    0.121</td> <td>   13.245</td> <td> 0.000</td> <td>    1.371</td> <td>    1.847</td>\n",
       "</tr>\n",
       "<tr>\n",
       "  <th>Category_SOCIAL</th>                              <td>    1.6116</td> <td>    0.121</td> <td>   13.299</td> <td> 0.000</td> <td>    1.374</td> <td>    1.849</td>\n",
       "</tr>\n",
       "<tr>\n",
       "  <th>Category_SPORTS</th>                              <td>    3.0934</td> <td>    0.421</td> <td>    7.352</td> <td> 0.000</td> <td>    2.269</td> <td>    3.918</td>\n",
       "</tr>\n",
       "<tr>\n",
       "  <th>Category_TOOLS</th>                               <td>    2.1455</td> <td>    0.228</td> <td>    9.412</td> <td> 0.000</td> <td>    1.699</td> <td>    2.592</td>\n",
       "</tr>\n",
       "<tr>\n",
       "  <th>Category_TRAVEL_AND_LOCAL</th>                    <td>    2.1361</td> <td>    0.228</td> <td>    9.359</td> <td> 0.000</td> <td>    1.689</td> <td>    2.583</td>\n",
       "</tr>\n",
       "<tr>\n",
       "  <th>Category_VIDEO_PLAYERS</th>                       <td>    2.8638</td> <td>    0.644</td> <td>    4.444</td> <td> 0.000</td> <td>    1.601</td> <td>    4.127</td>\n",
       "</tr>\n",
       "<tr>\n",
       "  <th>Category_WEATHER</th>                             <td>    1.6195</td> <td>    0.125</td> <td>   12.999</td> <td> 0.000</td> <td>    1.375</td> <td>    1.864</td>\n",
       "</tr>\n",
       "<tr>\n",
       "  <th>Type_Paid</th>                                    <td>   -0.0839</td> <td>    0.032</td> <td>   -2.641</td> <td> 0.008</td> <td>   -0.146</td> <td>   -0.022</td>\n",
       "</tr>\n",
       "<tr>\n",
       "  <th>Content_Rating_Everyone</th>                      <td>    1.3855</td> <td>    0.239</td> <td>    5.807</td> <td> 0.000</td> <td>    0.918</td> <td>    1.853</td>\n",
       "</tr>\n",
       "<tr>\n",
       "  <th>Content_Rating_Everyone_10+</th>                  <td>    1.3848</td> <td>    0.240</td> <td>    5.760</td> <td> 0.000</td> <td>    0.913</td> <td>    1.856</td>\n",
       "</tr>\n",
       "<tr>\n",
       "  <th>Content_Rating_Mature_17+</th>                    <td>    1.3697</td> <td>    0.241</td> <td>    5.689</td> <td> 0.000</td> <td>    0.898</td> <td>    1.842</td>\n",
       "</tr>\n",
       "<tr>\n",
       "  <th>Content_Rating_Teen</th>                          <td>    1.3954</td> <td>    0.239</td> <td>    5.843</td> <td> 0.000</td> <td>    0.927</td> <td>    1.864</td>\n",
       "</tr>\n",
       "<tr>\n",
       "  <th>Content_Rating_Unrated</th>                       <td>    1.3438</td> <td>    0.543</td> <td>    2.477</td> <td> 0.013</td> <td>    0.280</td> <td>    2.407</td>\n",
       "</tr>\n",
       "<tr>\n",
       "  <th>Genres_Action_Action_&_Adventure</th>             <td>    0.2739</td> <td>    0.153</td> <td>    1.793</td> <td> 0.073</td> <td>   -0.026</td> <td>    0.573</td>\n",
       "</tr>\n",
       "<tr>\n",
       "  <th>Genres_Adventure</th>                             <td>   -0.0817</td> <td>    0.078</td> <td>   -1.053</td> <td> 0.292</td> <td>   -0.234</td> <td>    0.070</td>\n",
       "</tr>\n",
       "<tr>\n",
       "  <th>Genres_Adventure_Action_&_Adventure</th>          <td>    0.3259</td> <td>    0.352</td> <td>    0.925</td> <td> 0.355</td> <td>   -0.364</td> <td>    1.016</td>\n",
       "</tr>\n",
       "<tr>\n",
       "  <th>Genres_Adventure_Brain_Games</th>                 <td>    0.5704</td> <td>    0.493</td> <td>    1.157</td> <td> 0.247</td> <td>   -0.396</td> <td>    1.537</td>\n",
       "</tr>\n",
       "<tr>\n",
       "  <th>Genres_Adventure_Education</th>                   <td>    0.0545</td> <td>    0.353</td> <td>    0.155</td> <td> 0.877</td> <td>   -0.637</td> <td>    0.746</td>\n",
       "</tr>\n",
       "<tr>\n",
       "  <th>Genres_Arcade</th>                                <td>    0.0809</td> <td>    0.055</td> <td>    1.466</td> <td> 0.143</td> <td>   -0.027</td> <td>    0.189</td>\n",
       "</tr>\n",
       "<tr>\n",
       "  <th>Genres_Arcade_Action_&_Adventure</th>             <td>    0.2865</td> <td>    0.164</td> <td>    1.746</td> <td> 0.081</td> <td>   -0.035</td> <td>    0.608</td>\n",
       "</tr>\n",
       "<tr>\n",
       "  <th>Genres_Arcade_Pretend_Play</th>                   <td>    0.5474</td> <td>    0.493</td> <td>    1.111</td> <td> 0.267</td> <td>   -0.419</td> <td>    1.513</td>\n",
       "</tr>\n",
       "<tr>\n",
       "  <th>Genres_Art_&_Design</th>                          <td>    3.4662</td> <td>    0.253</td> <td>   13.711</td> <td> 0.000</td> <td>    2.971</td> <td>    3.962</td>\n",
       "</tr>\n",
       "<tr>\n",
       "  <th>Genres_Art_&_Design_Creativity</th>               <td>    2.5998</td> <td>    0.258</td> <td>   10.079</td> <td> 0.000</td> <td>    2.094</td> <td>    3.105</td>\n",
       "</tr>\n",
       "<tr>\n",
       "  <th>Genres_Art_&_Design_Pretend_Play</th>             <td>    3.2802</td> <td>    0.543</td> <td>    6.039</td> <td> 0.000</td> <td>    2.215</td> <td>    4.345</td>\n",
       "</tr>\n",
       "<tr>\n",
       "  <th>Genres_Auto_&_Vehicles</th>                       <td>    1.6381</td> <td>    0.125</td> <td>   13.136</td> <td> 0.000</td> <td>    1.394</td> <td>    1.883</td>\n",
       "</tr>\n",
       "<tr>\n",
       "  <th>Genres_Beauty</th>                                <td>    1.7213</td> <td>    0.128</td> <td>   13.462</td> <td> 0.000</td> <td>    1.471</td> <td>    1.972</td>\n",
       "</tr>\n",
       "<tr>\n",
       "  <th>Genres_Board</th>                                 <td>    0.0196</td> <td>    0.093</td> <td>    0.210</td> <td> 0.834</td> <td>   -0.163</td> <td>    0.202</td>\n",
       "</tr>\n",
       "<tr>\n",
       "  <th>Genres_Board_Action_&_Adventure</th>              <td>    0.0976</td> <td>    0.493</td> <td>    0.198</td> <td> 0.843</td> <td>   -0.868</td> <td>    1.063</td>\n",
       "</tr>\n",
       "<tr>\n",
       "  <th>Genres_Board_Brain_Games</th>                     <td>    0.4762</td> <td>    0.171</td> <td>    2.782</td> <td> 0.005</td> <td>    0.141</td> <td>    0.812</td>\n",
       "</tr>\n",
       "<tr>\n",
       "  <th>Genres_Board_Pretend_Play</th>                    <td>-9.999e-12</td> <td> 2.68e-11</td> <td>   -0.374</td> <td> 0.709</td> <td>-6.25e-11</td> <td> 4.25e-11</td>\n",
       "</tr>\n",
       "<tr>\n",
       "  <th>Genres_Books_&_Reference</th>                     <td>    1.6843</td> <td>    0.122</td> <td>   13.826</td> <td> 0.000</td> <td>    1.445</td> <td>    1.923</td>\n",
       "</tr>\n",
       "<tr>\n",
       "  <th>Genres_Books_&_Reference_Education</th>           <td>    0.3094</td> <td>    0.352</td> <td>    0.879</td> <td> 0.380</td> <td>   -0.381</td> <td>    1.000</td>\n",
       "</tr>\n",
       "<tr>\n",
       "  <th>Genres_Business</th>                              <td>    1.6046</td> <td>    0.121</td> <td>   13.272</td> <td> 0.000</td> <td>    1.368</td> <td>    1.842</td>\n",
       "</tr>\n",
       "<tr>\n",
       "  <th>Genres_Card</th>                                  <td>   -0.1032</td> <td>    0.088</td> <td>   -1.175</td> <td> 0.240</td> <td>   -0.275</td> <td>    0.069</td>\n",
       "</tr>\n",
       "<tr>\n",
       "  <th>Genres_Card_Action_&_Adventure</th>               <td>    0.0730</td> <td>    0.353</td> <td>    0.207</td> <td> 0.836</td> <td>   -0.619</td> <td>    0.765</td>\n",
       "</tr>\n",
       "<tr>\n",
       "  <th>Genres_Card_Brain_Games</th>                      <td>    0.7041</td> <td>    0.492</td> <td>    1.430</td> <td> 0.153</td> <td>   -0.261</td> <td>    1.669</td>\n",
       "</tr>\n",
       "<tr>\n",
       "  <th>Genres_Casino</th>                                <td>    0.0818</td> <td>    0.097</td> <td>    0.845</td> <td> 0.398</td> <td>   -0.108</td> <td>    0.272</td>\n",
       "</tr>\n",
       "<tr>\n",
       "  <th>Genres_Casual</th>                                <td>    0.1815</td> <td>    0.082</td> <td>    2.226</td> <td> 0.026</td> <td>    0.022</td> <td>    0.341</td>\n",
       "</tr>\n",
       "<tr>\n",
       "  <th>Genres_Casual_Action_&_Adventure</th>             <td>    0.4097</td> <td>    0.159</td> <td>    2.577</td> <td> 0.010</td> <td>    0.098</td> <td>    0.721</td>\n",
       "</tr>\n",
       "<tr>\n",
       "  <th>Genres_Casual_Brain_Games</th>                    <td>    0.6562</td> <td>    0.185</td> <td>    3.550</td> <td> 0.000</td> <td>    0.294</td> <td>    1.018</td>\n",
       "</tr>\n",
       "<tr>\n",
       "  <th>Genres_Casual_Creativity</th>                     <td>    0.3377</td> <td>    0.227</td> <td>    1.489</td> <td> 0.136</td> <td>   -0.107</td> <td>    0.782</td>\n",
       "</tr>\n",
       "<tr>\n",
       "  <th>Genres_Casual_Education</th>                      <td>    0.3845</td> <td>    0.352</td> <td>    1.092</td> <td> 0.275</td> <td>   -0.306</td> <td>    1.075</td>\n",
       "</tr>\n",
       "<tr>\n",
       "  <th>Genres_Casual_Music_&_Video</th>                  <td>    0.3886</td> <td>    0.493</td> <td>    0.789</td> <td> 0.430</td> <td>   -0.577</td> <td>    1.354</td>\n",
       "</tr>\n",
       "<tr>\n",
       "  <th>Genres_Casual_Pretend_Play</th>                   <td>    0.2678</td> <td>    0.126</td> <td>    2.123</td> <td> 0.034</td> <td>    0.020</td> <td>    0.515</td>\n",
       "</tr>\n",
       "<tr>\n",
       "  <th>Genres_Comics</th>                                <td>    0.8128</td> <td>    0.185</td> <td>    4.385</td> <td> 0.000</td> <td>    0.449</td> <td>    1.176</td>\n",
       "</tr>\n",
       "<tr>\n",
       "  <th>Genres_Comics_Creativity</th>                     <td>    1.5659</td> <td>    0.337</td> <td>    4.653</td> <td> 0.000</td> <td>    0.906</td> <td>    2.226</td>\n",
       "</tr>\n",
       "<tr>\n",
       "  <th>Genres_Communication</th>                         <td>    1.5478</td> <td>    0.121</td> <td>   12.765</td> <td> 0.000</td> <td>    1.310</td> <td>    1.786</td>\n",
       "</tr>\n",
       "<tr>\n",
       "  <th>Genres_Communication_Creativity</th>              <td>    0.4552</td> <td>    0.493</td> <td>    0.924</td> <td> 0.355</td> <td>   -0.510</td> <td>    1.421</td>\n",
       "</tr>\n",
       "<tr>\n",
       "  <th>Genres_Dating</th>                                <td>    1.5013</td> <td>    0.122</td> <td>   12.262</td> <td> 0.000</td> <td>    1.261</td> <td>    1.741</td>\n",
       "</tr>\n",
       "<tr>\n",
       "  <th>Genres_Education</th>                             <td>    0.4813</td> <td>    0.080</td> <td>    5.998</td> <td> 0.000</td> <td>    0.324</td> <td>    0.639</td>\n",
       "</tr>\n",
       "<tr>\n",
       "  <th>Genres_Education_Action_&_Adventure</th>          <td>    0.8246</td> <td>    0.292</td> <td>    2.826</td> <td> 0.005</td> <td>    0.253</td> <td>    1.397</td>\n",
       "</tr>\n",
       "<tr>\n",
       "  <th>Genres_Education_Brain_Games</th>                 <td>    0.3587</td> <td>    0.293</td> <td>    1.223</td> <td> 0.222</td> <td>   -0.216</td> <td>    0.934</td>\n",
       "</tr>\n",
       "<tr>\n",
       "  <th>Genres_Education_Creativity</th>                  <td>    0.7808</td> <td>    0.232</td> <td>    3.370</td> <td> 0.001</td> <td>    0.327</td> <td>    1.235</td>\n",
       "</tr>\n",
       "<tr>\n",
       "  <th>Genres_Education_Education</th>                   <td>    0.5631</td> <td>    0.115</td> <td>    4.894</td> <td> 0.000</td> <td>    0.338</td> <td>    0.789</td>\n",
       "</tr>\n",
       "<tr>\n",
       "  <th>Genres_Education_Music_&_Video</th>               <td>    0.3892</td> <td>    0.493</td> <td>    0.790</td> <td> 0.430</td> <td>   -0.577</td> <td>    1.355</td>\n",
       "</tr>\n",
       "<tr>\n",
       "  <th>Genres_Education_Pretend_Play</th>                <td>    0.5627</td> <td>    0.133</td> <td>    4.236</td> <td> 0.000</td> <td>    0.302</td> <td>    0.823</td>\n",
       "</tr>\n",
       "<tr>\n",
       "  <th>Genres_Educational</th>                           <td>    0.0147</td> <td>    0.125</td> <td>    0.118</td> <td> 0.906</td> <td>   -0.230</td> <td>    0.260</td>\n",
       "</tr>\n",
       "<tr>\n",
       "  <th>Genres_Educational_Action_&_Adventure</th>        <td>    0.3506</td> <td>    0.255</td> <td>    1.377</td> <td> 0.169</td> <td>   -0.149</td> <td>    0.850</td>\n",
       "</tr>\n",
       "<tr>\n",
       "  <th>Genres_Educational_Brain_Games</th>               <td>    0.4424</td> <td>    0.255</td> <td>    1.737</td> <td> 0.082</td> <td>   -0.057</td> <td>    0.942</td>\n",
       "</tr>\n",
       "<tr>\n",
       "  <th>Genres_Educational_Creativity</th>                <td>    0.2078</td> <td>    0.291</td> <td>    0.713</td> <td> 0.476</td> <td>   -0.364</td> <td>    0.779</td>\n",
       "</tr>\n",
       "<tr>\n",
       "  <th>Genres_Educational_Education</th>                 <td>    0.4526</td> <td>    0.118</td> <td>    3.822</td> <td> 0.000</td> <td>    0.221</td> <td>    0.685</td>\n",
       "</tr>\n",
       "<tr>\n",
       "  <th>Genres_Educational_Pretend_Play</th>              <td>    0.3586</td> <td>    0.150</td> <td>    2.391</td> <td> 0.017</td> <td>    0.065</td> <td>    0.653</td>\n",
       "</tr>\n",
       "<tr>\n",
       "  <th>Genres_Entertainment</th>                         <td>    0.2606</td> <td>    0.079</td> <td>    3.294</td> <td> 0.001</td> <td>    0.106</td> <td>    0.416</td>\n",
       "</tr>\n",
       "<tr>\n",
       "  <th>Genres_Entertainment_Action_&_Adventure</th>      <td>    0.3654</td> <td>    0.291</td> <td>    1.256</td> <td> 0.209</td> <td>   -0.205</td> <td>    0.935</td>\n",
       "</tr>\n",
       "<tr>\n",
       "  <th>Genres_Entertainment_Brain_Games</th>             <td>    0.4481</td> <td>    0.199</td> <td>    2.248</td> <td> 0.025</td> <td>    0.057</td> <td>    0.839</td>\n",
       "</tr>\n",
       "<tr>\n",
       "  <th>Genres_Entertainment_Creativity</th>              <td>    0.7096</td> <td>    0.354</td> <td>    2.007</td> <td> 0.045</td> <td>    0.017</td> <td>    1.403</td>\n",
       "</tr>\n",
       "<tr>\n",
       "  <th>Genres_Entertainment_Education</th>               <td>    0.6296</td> <td>    0.493</td> <td>    1.278</td> <td> 0.201</td> <td>   -0.336</td> <td>    1.595</td>\n",
       "</tr>\n",
       "<tr>\n",
       "  <th>Genres_Entertainment_Music_&_Video</th>           <td>    0.4017</td> <td>    0.155</td> <td>    2.598</td> <td> 0.009</td> <td>    0.099</td> <td>    0.705</td>\n",
       "</tr>\n",
       "<tr>\n",
       "  <th>Genres_Entertainment_Pretend_Play</th>            <td>    0.0043</td> <td>    0.352</td> <td>    0.012</td> <td> 0.990</td> <td>   -0.686</td> <td>    0.695</td>\n",
       "</tr>\n",
       "<tr>\n",
       "  <th>Genres_Events</th>                                <td>    1.7447</td> <td>    0.126</td> <td>   13.792</td> <td> 0.000</td> <td>    1.497</td> <td>    1.993</td>\n",
       "</tr>\n",
       "<tr>\n",
       "  <th>Genres_Finance</th>                               <td>    1.5685</td> <td>    0.121</td> <td>   12.976</td> <td> 0.000</td> <td>    1.332</td> <td>    1.806</td>\n",
       "</tr>\n",
       "<tr>\n",
       "  <th>Genres_Food_&_Drink</th>                          <td>    1.5993</td> <td>    0.123</td> <td>   13.006</td> <td> 0.000</td> <td>    1.358</td> <td>    1.840</td>\n",
       "</tr>\n",
       "<tr>\n",
       "  <th>Genres_Health_&_Fitness</th>                      <td>    1.6296</td> <td>    0.121</td> <td>   13.464</td> <td> 0.000</td> <td>    1.392</td> <td>    1.867</td>\n",
       "</tr>\n",
       "<tr>\n",
       "  <th>Genres_Health_&_Fitness_Action_&_Adventure</th>   <td>   -0.1025</td> <td>    0.493</td> <td>   -0.208</td> <td> 0.835</td> <td>   -1.068</td> <td>    0.863</td>\n",
       "</tr>\n",
       "<tr>\n",
       "  <th>Genres_Health_&_Fitness_Education</th>            <td>    0.5455</td> <td>    0.492</td> <td>    1.108</td> <td> 0.268</td> <td>   -0.420</td> <td>    1.511</td>\n",
       "</tr>\n",
       "<tr>\n",
       "  <th>Genres_House_&_Home</th>                          <td>    1.6151</td> <td>    0.124</td> <td>   13.002</td> <td> 0.000</td> <td>    1.372</td> <td>    1.859</td>\n",
       "</tr>\n",
       "<tr>\n",
       "  <th>Genres_Libraries_&_Demo</th>                      <td>    1.6541</td> <td>    0.125</td> <td>   13.247</td> <td> 0.000</td> <td>    1.409</td> <td>    1.899</td>\n",
       "</tr>\n",
       "<tr>\n",
       "  <th>Genres_Lifestyle</th>                             <td>    1.5913</td> <td>    0.121</td> <td>   13.156</td> <td> 0.000</td> <td>    1.354</td> <td>    1.828</td>\n",
       "</tr>\n",
       "<tr>\n",
       "  <th>Genres_Lifestyle_Education</th>                   <td>-5.513e-13</td> <td> 2.49e-12</td> <td>   -0.221</td> <td> 0.825</td> <td>-5.44e-12</td> <td> 4.34e-12</td>\n",
       "</tr>\n",
       "<tr>\n",
       "  <th>Genres_Lifestyle_Pretend_Play</th>                <td> 1.673e-12</td> <td> 4.33e-12</td> <td>    0.387</td> <td> 0.699</td> <td>-6.81e-12</td> <td> 1.02e-11</td>\n",
       "</tr>\n",
       "<tr>\n",
       "  <th>Genres_Maps_&_Navigation</th>                     <td>    1.5212</td> <td>    0.123</td> <td>   12.399</td> <td> 0.000</td> <td>    1.281</td> <td>    1.762</td>\n",
       "</tr>\n",
       "<tr>\n",
       "  <th>Genres_Medical</th>                               <td>    1.6353</td> <td>    0.121</td> <td>   13.543</td> <td> 0.000</td> <td>    1.399</td> <td>    1.872</td>\n",
       "</tr>\n",
       "<tr>\n",
       "  <th>Genres_Music</th>                                 <td>   -0.0491</td> <td>    0.134</td> <td>   -0.365</td> <td> 0.715</td> <td>   -0.313</td> <td>    0.215</td>\n",
       "</tr>\n",
       "<tr>\n",
       "  <th>Genres_Music_&_Audio_Music_&_Video</th>           <td>    0.7194</td> <td>    0.493</td> <td>    1.460</td> <td> 0.144</td> <td>   -0.246</td> <td>    1.685</td>\n",
       "</tr>\n",
       "<tr>\n",
       "  <th>Genres_Music_Music_&_Video</th>                   <td>    0.7628</td> <td>    0.352</td> <td>    2.166</td> <td> 0.030</td> <td>    0.072</td> <td>    1.453</td>\n",
       "</tr>\n",
       "<tr>\n",
       "  <th>Genres_News_&_Magazines</th>                      <td>    1.5639</td> <td>    0.121</td> <td>   12.897</td> <td> 0.000</td> <td>    1.326</td> <td>    1.802</td>\n",
       "</tr>\n",
       "<tr>\n",
       "  <th>Genres_Parenting</th>                             <td>    0.8856</td> <td>    0.142</td> <td>    6.229</td> <td> 0.000</td> <td>    0.607</td> <td>    1.164</td>\n",
       "</tr>\n",
       "<tr>\n",
       "  <th>Genres_Parenting_Brain_Games</th>                 <td>-3.006e-13</td> <td> 1.53e-12</td> <td>   -0.197</td> <td> 0.844</td> <td> -3.3e-12</td> <td>  2.7e-12</td>\n",
       "</tr>\n",
       "<tr>\n",
       "  <th>Genres_Parenting_Education</th>                   <td>    0.6841</td> <td>    0.275</td> <td>    2.485</td> <td> 0.013</td> <td>    0.144</td> <td>    1.224</td>\n",
       "</tr>\n",
       "<tr>\n",
       "  <th>Genres_Parenting_Music_&_Video</th>               <td>    0.9651</td> <td>    0.236</td> <td>    4.081</td> <td> 0.000</td> <td>    0.502</td> <td>    1.429</td>\n",
       "</tr>\n",
       "<tr>\n",
       "  <th>Genres_Personalization</th>                       <td>    1.6774</td> <td>    0.121</td> <td>   13.866</td> <td> 0.000</td> <td>    1.440</td> <td>    1.915</td>\n",
       "</tr>\n",
       "<tr>\n",
       "  <th>Genres_Photography</th>                           <td>    1.5848</td> <td>    0.121</td> <td>   13.077</td> <td> 0.000</td> <td>    1.347</td> <td>    1.822</td>\n",
       "</tr>\n",
       "<tr>\n",
       "  <th>Genres_Productivity</th>                          <td>    1.6213</td> <td>    0.121</td> <td>   13.399</td> <td> 0.000</td> <td>    1.384</td> <td>    1.859</td>\n",
       "</tr>\n",
       "<tr>\n",
       "  <th>Genres_Puzzle</th>                                <td>    0.3274</td> <td>    0.077</td> <td>    4.254</td> <td> 0.000</td> <td>    0.177</td> <td>    0.478</td>\n",
       "</tr>\n",
       "<tr>\n",
       "  <th>Genres_Puzzle_Action_&_Adventure</th>             <td>    0.3040</td> <td>    0.230</td> <td>    1.320</td> <td> 0.187</td> <td>   -0.147</td> <td>    0.755</td>\n",
       "</tr>\n",
       "<tr>\n",
       "  <th>Genres_Puzzle_Brain_Games</th>                    <td>    0.4838</td> <td>    0.146</td> <td>    3.311</td> <td> 0.001</td> <td>    0.197</td> <td>    0.770</td>\n",
       "</tr>\n",
       "<tr>\n",
       "  <th>Genres_Puzzle_Creativity</th>                     <td>    0.5716</td> <td>    0.493</td> <td>    1.160</td> <td> 0.246</td> <td>   -0.394</td> <td>    1.537</td>\n",
       "</tr>\n",
       "<tr>\n",
       "  <th>Genres_Puzzle_Education</th>                      <td>    0.8685</td> <td>    0.492</td> <td>    1.764</td> <td> 0.078</td> <td>   -0.097</td> <td>    1.834</td>\n",
       "</tr>\n",
       "<tr>\n",
       "  <th>Genres_Racing</th>                                <td>   -0.0124</td> <td>    0.076</td> <td>   -0.162</td> <td> 0.871</td> <td>   -0.162</td> <td>    0.137</td>\n",
       "</tr>\n",
       "<tr>\n",
       "  <th>Genres_Racing_Action_&_Adventure</th>             <td>    0.4695</td> <td>    0.150</td> <td>    3.126</td> <td> 0.002</td> <td>    0.175</td> <td>    0.764</td>\n",
       "</tr>\n",
       "<tr>\n",
       "  <th>Genres_Racing_Pretend_Play</th>                   <td>    0.9584</td> <td>    0.493</td> <td>    1.945</td> <td> 0.052</td> <td>   -0.008</td> <td>    1.925</td>\n",
       "</tr>\n",
       "<tr>\n",
       "  <th>Genres_Role_Playing</th>                          <td>    0.1774</td> <td>    0.085</td> <td>    2.094</td> <td> 0.036</td> <td>    0.011</td> <td>    0.344</td>\n",
       "</tr>\n",
       "<tr>\n",
       "  <th>Genres_Role_Playing_Action_&_Adventure</th>       <td>    0.3217</td> <td>    0.230</td> <td>    1.399</td> <td> 0.162</td> <td>   -0.129</td> <td>    0.772</td>\n",
       "</tr>\n",
       "<tr>\n",
       "  <th>Genres_Role_Playing_Brain_Games</th>              <td>         0</td> <td>        0</td> <td>      nan</td> <td>   nan</td> <td>        0</td> <td>        0</td>\n",
       "</tr>\n",
       "<tr>\n",
       "  <th>Genres_Role_Playing_Pretend_Play</th>             <td>    0.7804</td> <td>    0.493</td> <td>    1.584</td> <td> 0.113</td> <td>   -0.186</td> <td>    1.746</td>\n",
       "</tr>\n",
       "<tr>\n",
       "  <th>Genres_Shopping</th>                              <td>    1.6088</td> <td>    0.121</td> <td>   13.245</td> <td> 0.000</td> <td>    1.371</td> <td>    1.847</td>\n",
       "</tr>\n",
       "<tr>\n",
       "  <th>Genres_Simulation</th>                            <td>    0.2076</td> <td>    0.082</td> <td>    2.538</td> <td> 0.011</td> <td>    0.047</td> <td>    0.368</td>\n",
       "</tr>\n",
       "<tr>\n",
       "  <th>Genres_Simulation_Action_&_Adventure</th>         <td>    0.4333</td> <td>    0.176</td> <td>    2.460</td> <td> 0.014</td> <td>    0.088</td> <td>    0.779</td>\n",
       "</tr>\n",
       "<tr>\n",
       "  <th>Genres_Simulation_Education</th>                  <td>    0.2594</td> <td>    0.287</td> <td>    0.904</td> <td> 0.366</td> <td>   -0.303</td> <td>    0.822</td>\n",
       "</tr>\n",
       "<tr>\n",
       "  <th>Genres_Simulation_Pretend_Play</th>               <td>    0.2141</td> <td>    0.291</td> <td>    0.737</td> <td> 0.461</td> <td>   -0.355</td> <td>    0.784</td>\n",
       "</tr>\n",
       "<tr>\n",
       "  <th>Genres_Social</th>                                <td>    1.6116</td> <td>    0.121</td> <td>   13.299</td> <td> 0.000</td> <td>    1.374</td> <td>    1.849</td>\n",
       "</tr>\n",
       "<tr>\n",
       "  <th>Genres_Sports</th>                                <td>    0.0669</td> <td>    0.346</td> <td>    0.193</td> <td> 0.847</td> <td>   -0.612</td> <td>    0.746</td>\n",
       "</tr>\n",
       "<tr>\n",
       "  <th>Genres_Sports_Action_&_Adventure</th>             <td>    0.2767</td> <td>    0.291</td> <td>    0.951</td> <td> 0.342</td> <td>   -0.294</td> <td>    0.847</td>\n",
       "</tr>\n",
       "<tr>\n",
       "  <th>Genres_Strategy</th>                              <td>    0.1675</td> <td>    0.095</td> <td>    1.768</td> <td> 0.077</td> <td>   -0.018</td> <td>    0.353</td>\n",
       "</tr>\n",
       "<tr>\n",
       "  <th>Genres_Strategy_Action_&_Adventure</th>           <td>    0.3910</td> <td>    0.493</td> <td>    0.793</td> <td> 0.428</td> <td>   -0.576</td> <td>    1.358</td>\n",
       "</tr>\n",
       "<tr>\n",
       "  <th>Genres_Strategy_Creativity</th>                   <td>         0</td> <td>        0</td> <td>      nan</td> <td>   nan</td> <td>        0</td> <td>        0</td>\n",
       "</tr>\n",
       "<tr>\n",
       "  <th>Genres_Strategy_Education</th>                    <td>    0.8569</td> <td>    0.493</td> <td>    1.740</td> <td> 0.082</td> <td>   -0.109</td> <td>    1.822</td>\n",
       "</tr>\n",
       "<tr>\n",
       "  <th>Genres_Tools</th>                                 <td>    0.9933</td> <td>    0.181</td> <td>    5.473</td> <td> 0.000</td> <td>    0.638</td> <td>    1.349</td>\n",
       "</tr>\n",
       "<tr>\n",
       "  <th>Genres_Tools_Education</th>                       <td>    1.1522</td> <td>    0.334</td> <td>    3.445</td> <td> 0.001</td> <td>    0.497</td> <td>    1.808</td>\n",
       "</tr>\n",
       "<tr>\n",
       "  <th>Genres_Travel_&_Local</th>                        <td>    1.0204</td> <td>    0.183</td> <td>    5.578</td> <td> 0.000</td> <td>    0.662</td> <td>    1.379</td>\n",
       "</tr>\n",
       "<tr>\n",
       "  <th>Genres_Travel_&_Local_Action_&_Adventure</th>     <td>    1.1156</td> <td>    0.335</td> <td>    3.335</td> <td> 0.001</td> <td>    0.460</td> <td>    1.771</td>\n",
       "</tr>\n",
       "<tr>\n",
       "  <th>Genres_Trivia</th>                                <td>   -0.1316</td> <td>    0.108</td> <td>   -1.221</td> <td> 0.222</td> <td>   -0.343</td> <td>    0.080</td>\n",
       "</tr>\n",
       "<tr>\n",
       "  <th>Genres_Video_Players_&_Editors</th>               <td>    0.2532</td> <td>    0.603</td> <td>    0.420</td> <td> 0.675</td> <td>   -0.930</td> <td>    1.436</td>\n",
       "</tr>\n",
       "<tr>\n",
       "  <th>Genres_Video_Players_&_Editors_Creativity</th>    <td>    0.0344</td> <td>    0.493</td> <td>    0.070</td> <td> 0.944</td> <td>   -0.931</td> <td>    1.000</td>\n",
       "</tr>\n",
       "<tr>\n",
       "  <th>Genres_Video_Players_&_Editors_Music_&_Video</th> <td>    0.1329</td> <td>    0.352</td> <td>    0.377</td> <td> 0.706</td> <td>   -0.558</td> <td>    0.823</td>\n",
       "</tr>\n",
       "<tr>\n",
       "  <th>Genres_Weather</th>                               <td>    1.6195</td> <td>    0.125</td> <td>   12.999</td> <td> 0.000</td> <td>    1.375</td> <td>    1.864</td>\n",
       "</tr>\n",
       "<tr>\n",
       "  <th>Genres_Word</th>                                  <td>    0.1096</td> <td>    0.109</td> <td>    1.001</td> <td> 0.317</td> <td>   -0.105</td> <td>    0.324</td>\n",
       "</tr>\n",
       "</table>\n",
       "<table class=\"simpletable\">\n",
       "<tr>\n",
       "  <th>Omnibus:</th>       <td>2313.775</td> <th>  Durbin-Watson:     </th> <td>   2.022</td> \n",
       "</tr>\n",
       "<tr>\n",
       "  <th>Prob(Omnibus):</th>  <td> 0.000</td>  <th>  Jarque-Bera (JB):  </th> <td>13556.581</td>\n",
       "</tr>\n",
       "<tr>\n",
       "  <th>Skew:</th>           <td>-1.673</td>  <th>  Prob(JB):          </th> <td>    0.00</td> \n",
       "</tr>\n",
       "<tr>\n",
       "  <th>Kurtosis:</th>       <td> 9.416</td>  <th>  Cond. No.          </th> <td>5.96e+20</td> \n",
       "</tr>\n",
       "</table><br/><br/>Notes:<br/>[1] R² is computed without centering (uncentered) since the model does not contain a constant.<br/>[2] Standard Errors assume that the covariance matrix of the errors is correctly specified.<br/>[3] The smallest eigenvalue is 1.73e-29. This might indicate that there are<br/>strong multicollinearity problems or that the design matrix is singular."
      ],
      "text/plain": [
       "<class 'statsmodels.iolib.summary.Summary'>\n",
       "\"\"\"\n",
       "                                 OLS Regression Results                                \n",
       "=======================================================================================\n",
       "Dep. Variable:                 Rating   R-squared (uncentered):                   0.987\n",
       "Model:                            OLS   Adj. R-squared (uncentered):              0.987\n",
       "Method:                 Least Squares   F-statistic:                              3717.\n",
       "Date:                Sat, 02 Sep 2023   Prob (F-statistic):                        0.00\n",
       "Time:                        12:15:22   Log-Likelihood:                         -4281.7\n",
       "No. Observations:                6215   AIC:                                      8811.\n",
       "Df Residuals:                    6091   BIC:                                      9646.\n",
       "Df Model:                         124                                                  \n",
       "Covariance Type:            nonrobust                                                  \n",
       "================================================================================================================\n",
       "                                                   coef    std err          t      P>|t|      [0.025      0.975]\n",
       "----------------------------------------------------------------------------------------------------------------\n",
       "Reviews                                          0.1752      0.006     28.037      0.000       0.163       0.187\n",
       "Size                                         -2.896e-07   3.37e-07     -0.859      0.391   -9.51e-07    3.72e-07\n",
       "Installs                                        -0.1499      0.006    -24.184      0.000      -0.162      -0.138\n",
       "Price                                            0.0006      0.003      0.177      0.860      -0.006       0.007\n",
       "Category_AUTO_AND_VEHICLES                       1.6381      0.125     13.136      0.000       1.394       1.883\n",
       "Category_BEAUTY                                  1.7213      0.128     13.462      0.000       1.471       1.972\n",
       "Category_BOOKS_AND_REFERENCE                     1.6843      0.122     13.826      0.000       1.445       1.923\n",
       "Category_BUSINESS                                1.6046      0.121     13.272      0.000       1.368       1.842\n",
       "Category_COMICS                                  2.3786      0.226     10.517      0.000       1.935       2.822\n",
       "Category_COMMUNICATION                           1.5478      0.121     12.765      0.000       1.310       1.786\n",
       "Category_DATING                                  1.5013      0.122     12.262      0.000       1.261       1.741\n",
       "Category_EDUCATION                               2.8642      0.251     11.419      0.000       2.373       3.356\n",
       "Category_ENTERTAINMENT                           2.7757      0.251     11.065      0.000       2.284       3.267\n",
       "Category_EVENTS                                  1.7447      0.126     13.792      0.000       1.497       1.993\n",
       "Category_FAMILY                                  2.8988      0.243     11.920      0.000       2.422       3.376\n",
       "Category_FINANCE                                 1.5685      0.121     12.976      0.000       1.332       1.806\n",
       "Category_FOOD_AND_DRINK                          1.5993      0.123     13.006      0.000       1.358       1.840\n",
       "Category_GAME                                    3.1390      0.241     13.046      0.000       2.667       3.611\n",
       "Category_HEALTH_AND_FITNESS                      1.6296      0.121     13.464      0.000       1.392       1.867\n",
       "Category_HOUSE_AND_HOME                          1.6151      0.124     13.002      0.000       1.372       1.859\n",
       "Category_LIBRARIES_AND_DEMO                      1.6541      0.125     13.247      0.000       1.409       1.899\n",
       "Category_LIFESTYLE                               1.5913      0.121     13.156      0.000       1.354       1.828\n",
       "Category_MAPS_AND_NAVIGATION                     1.5212      0.123     12.399      0.000       1.281       1.762\n",
       "Category_MEDICAL                                 1.6353      0.121     13.543      0.000       1.399       1.872\n",
       "Category_NEWS_AND_MAGAZINES                      1.5639      0.121     12.897      0.000       1.326       1.802\n",
       "Category_PARENTING                               2.5348      0.213     11.914      0.000       2.118       2.952\n",
       "Category_PERSONALIZATION                         1.6774      0.121     13.866      0.000       1.440       1.915\n",
       "Category_PHOTOGRAPHY                             1.5848      0.121     13.077      0.000       1.347       1.822\n",
       "Category_PRODUCTIVITY                            1.6213      0.121     13.399      0.000       1.384       1.859\n",
       "Category_SHOPPING                                1.6088      0.121     13.245      0.000       1.371       1.847\n",
       "Category_SOCIAL                                  1.6116      0.121     13.299      0.000       1.374       1.849\n",
       "Category_SPORTS                                  3.0934      0.421      7.352      0.000       2.269       3.918\n",
       "Category_TOOLS                                   2.1455      0.228      9.412      0.000       1.699       2.592\n",
       "Category_TRAVEL_AND_LOCAL                        2.1361      0.228      9.359      0.000       1.689       2.583\n",
       "Category_VIDEO_PLAYERS                           2.8638      0.644      4.444      0.000       1.601       4.127\n",
       "Category_WEATHER                                 1.6195      0.125     12.999      0.000       1.375       1.864\n",
       "Type_Paid                                       -0.0839      0.032     -2.641      0.008      -0.146      -0.022\n",
       "Content_Rating_Everyone                          1.3855      0.239      5.807      0.000       0.918       1.853\n",
       "Content_Rating_Everyone_10+                      1.3848      0.240      5.760      0.000       0.913       1.856\n",
       "Content_Rating_Mature_17+                        1.3697      0.241      5.689      0.000       0.898       1.842\n",
       "Content_Rating_Teen                              1.3954      0.239      5.843      0.000       0.927       1.864\n",
       "Content_Rating_Unrated                           1.3438      0.543      2.477      0.013       0.280       2.407\n",
       "Genres_Action_Action_&_Adventure                 0.2739      0.153      1.793      0.073      -0.026       0.573\n",
       "Genres_Adventure                                -0.0817      0.078     -1.053      0.292      -0.234       0.070\n",
       "Genres_Adventure_Action_&_Adventure              0.3259      0.352      0.925      0.355      -0.364       1.016\n",
       "Genres_Adventure_Brain_Games                     0.5704      0.493      1.157      0.247      -0.396       1.537\n",
       "Genres_Adventure_Education                       0.0545      0.353      0.155      0.877      -0.637       0.746\n",
       "Genres_Arcade                                    0.0809      0.055      1.466      0.143      -0.027       0.189\n",
       "Genres_Arcade_Action_&_Adventure                 0.2865      0.164      1.746      0.081      -0.035       0.608\n",
       "Genres_Arcade_Pretend_Play                       0.5474      0.493      1.111      0.267      -0.419       1.513\n",
       "Genres_Art_&_Design                              3.4662      0.253     13.711      0.000       2.971       3.962\n",
       "Genres_Art_&_Design_Creativity                   2.5998      0.258     10.079      0.000       2.094       3.105\n",
       "Genres_Art_&_Design_Pretend_Play                 3.2802      0.543      6.039      0.000       2.215       4.345\n",
       "Genres_Auto_&_Vehicles                           1.6381      0.125     13.136      0.000       1.394       1.883\n",
       "Genres_Beauty                                    1.7213      0.128     13.462      0.000       1.471       1.972\n",
       "Genres_Board                                     0.0196      0.093      0.210      0.834      -0.163       0.202\n",
       "Genres_Board_Action_&_Adventure                  0.0976      0.493      0.198      0.843      -0.868       1.063\n",
       "Genres_Board_Brain_Games                         0.4762      0.171      2.782      0.005       0.141       0.812\n",
       "Genres_Board_Pretend_Play                    -9.999e-12   2.68e-11     -0.374      0.709   -6.25e-11    4.25e-11\n",
       "Genres_Books_&_Reference                         1.6843      0.122     13.826      0.000       1.445       1.923\n",
       "Genres_Books_&_Reference_Education               0.3094      0.352      0.879      0.380      -0.381       1.000\n",
       "Genres_Business                                  1.6046      0.121     13.272      0.000       1.368       1.842\n",
       "Genres_Card                                     -0.1032      0.088     -1.175      0.240      -0.275       0.069\n",
       "Genres_Card_Action_&_Adventure                   0.0730      0.353      0.207      0.836      -0.619       0.765\n",
       "Genres_Card_Brain_Games                          0.7041      0.492      1.430      0.153      -0.261       1.669\n",
       "Genres_Casino                                    0.0818      0.097      0.845      0.398      -0.108       0.272\n",
       "Genres_Casual                                    0.1815      0.082      2.226      0.026       0.022       0.341\n",
       "Genres_Casual_Action_&_Adventure                 0.4097      0.159      2.577      0.010       0.098       0.721\n",
       "Genres_Casual_Brain_Games                        0.6562      0.185      3.550      0.000       0.294       1.018\n",
       "Genres_Casual_Creativity                         0.3377      0.227      1.489      0.136      -0.107       0.782\n",
       "Genres_Casual_Education                          0.3845      0.352      1.092      0.275      -0.306       1.075\n",
       "Genres_Casual_Music_&_Video                      0.3886      0.493      0.789      0.430      -0.577       1.354\n",
       "Genres_Casual_Pretend_Play                       0.2678      0.126      2.123      0.034       0.020       0.515\n",
       "Genres_Comics                                    0.8128      0.185      4.385      0.000       0.449       1.176\n",
       "Genres_Comics_Creativity                         1.5659      0.337      4.653      0.000       0.906       2.226\n",
       "Genres_Communication                             1.5478      0.121     12.765      0.000       1.310       1.786\n",
       "Genres_Communication_Creativity                  0.4552      0.493      0.924      0.355      -0.510       1.421\n",
       "Genres_Dating                                    1.5013      0.122     12.262      0.000       1.261       1.741\n",
       "Genres_Education                                 0.4813      0.080      5.998      0.000       0.324       0.639\n",
       "Genres_Education_Action_&_Adventure              0.8246      0.292      2.826      0.005       0.253       1.397\n",
       "Genres_Education_Brain_Games                     0.3587      0.293      1.223      0.222      -0.216       0.934\n",
       "Genres_Education_Creativity                      0.7808      0.232      3.370      0.001       0.327       1.235\n",
       "Genres_Education_Education                       0.5631      0.115      4.894      0.000       0.338       0.789\n",
       "Genres_Education_Music_&_Video                   0.3892      0.493      0.790      0.430      -0.577       1.355\n",
       "Genres_Education_Pretend_Play                    0.5627      0.133      4.236      0.000       0.302       0.823\n",
       "Genres_Educational                               0.0147      0.125      0.118      0.906      -0.230       0.260\n",
       "Genres_Educational_Action_&_Adventure            0.3506      0.255      1.377      0.169      -0.149       0.850\n",
       "Genres_Educational_Brain_Games                   0.4424      0.255      1.737      0.082      -0.057       0.942\n",
       "Genres_Educational_Creativity                    0.2078      0.291      0.713      0.476      -0.364       0.779\n",
       "Genres_Educational_Education                     0.4526      0.118      3.822      0.000       0.221       0.685\n",
       "Genres_Educational_Pretend_Play                  0.3586      0.150      2.391      0.017       0.065       0.653\n",
       "Genres_Entertainment                             0.2606      0.079      3.294      0.001       0.106       0.416\n",
       "Genres_Entertainment_Action_&_Adventure          0.3654      0.291      1.256      0.209      -0.205       0.935\n",
       "Genres_Entertainment_Brain_Games                 0.4481      0.199      2.248      0.025       0.057       0.839\n",
       "Genres_Entertainment_Creativity                  0.7096      0.354      2.007      0.045       0.017       1.403\n",
       "Genres_Entertainment_Education                   0.6296      0.493      1.278      0.201      -0.336       1.595\n",
       "Genres_Entertainment_Music_&_Video               0.4017      0.155      2.598      0.009       0.099       0.705\n",
       "Genres_Entertainment_Pretend_Play                0.0043      0.352      0.012      0.990      -0.686       0.695\n",
       "Genres_Events                                    1.7447      0.126     13.792      0.000       1.497       1.993\n",
       "Genres_Finance                                   1.5685      0.121     12.976      0.000       1.332       1.806\n",
       "Genres_Food_&_Drink                              1.5993      0.123     13.006      0.000       1.358       1.840\n",
       "Genres_Health_&_Fitness                          1.6296      0.121     13.464      0.000       1.392       1.867\n",
       "Genres_Health_&_Fitness_Action_&_Adventure      -0.1025      0.493     -0.208      0.835      -1.068       0.863\n",
       "Genres_Health_&_Fitness_Education                0.5455      0.492      1.108      0.268      -0.420       1.511\n",
       "Genres_House_&_Home                              1.6151      0.124     13.002      0.000       1.372       1.859\n",
       "Genres_Libraries_&_Demo                          1.6541      0.125     13.247      0.000       1.409       1.899\n",
       "Genres_Lifestyle                                 1.5913      0.121     13.156      0.000       1.354       1.828\n",
       "Genres_Lifestyle_Education                   -5.513e-13   2.49e-12     -0.221      0.825   -5.44e-12    4.34e-12\n",
       "Genres_Lifestyle_Pretend_Play                 1.673e-12   4.33e-12      0.387      0.699   -6.81e-12    1.02e-11\n",
       "Genres_Maps_&_Navigation                         1.5212      0.123     12.399      0.000       1.281       1.762\n",
       "Genres_Medical                                   1.6353      0.121     13.543      0.000       1.399       1.872\n",
       "Genres_Music                                    -0.0491      0.134     -0.365      0.715      -0.313       0.215\n",
       "Genres_Music_&_Audio_Music_&_Video               0.7194      0.493      1.460      0.144      -0.246       1.685\n",
       "Genres_Music_Music_&_Video                       0.7628      0.352      2.166      0.030       0.072       1.453\n",
       "Genres_News_&_Magazines                          1.5639      0.121     12.897      0.000       1.326       1.802\n",
       "Genres_Parenting                                 0.8856      0.142      6.229      0.000       0.607       1.164\n",
       "Genres_Parenting_Brain_Games                 -3.006e-13   1.53e-12     -0.197      0.844    -3.3e-12     2.7e-12\n",
       "Genres_Parenting_Education                       0.6841      0.275      2.485      0.013       0.144       1.224\n",
       "Genres_Parenting_Music_&_Video                   0.9651      0.236      4.081      0.000       0.502       1.429\n",
       "Genres_Personalization                           1.6774      0.121     13.866      0.000       1.440       1.915\n",
       "Genres_Photography                               1.5848      0.121     13.077      0.000       1.347       1.822\n",
       "Genres_Productivity                              1.6213      0.121     13.399      0.000       1.384       1.859\n",
       "Genres_Puzzle                                    0.3274      0.077      4.254      0.000       0.177       0.478\n",
       "Genres_Puzzle_Action_&_Adventure                 0.3040      0.230      1.320      0.187      -0.147       0.755\n",
       "Genres_Puzzle_Brain_Games                        0.4838      0.146      3.311      0.001       0.197       0.770\n",
       "Genres_Puzzle_Creativity                         0.5716      0.493      1.160      0.246      -0.394       1.537\n",
       "Genres_Puzzle_Education                          0.8685      0.492      1.764      0.078      -0.097       1.834\n",
       "Genres_Racing                                   -0.0124      0.076     -0.162      0.871      -0.162       0.137\n",
       "Genres_Racing_Action_&_Adventure                 0.4695      0.150      3.126      0.002       0.175       0.764\n",
       "Genres_Racing_Pretend_Play                       0.9584      0.493      1.945      0.052      -0.008       1.925\n",
       "Genres_Role_Playing                              0.1774      0.085      2.094      0.036       0.011       0.344\n",
       "Genres_Role_Playing_Action_&_Adventure           0.3217      0.230      1.399      0.162      -0.129       0.772\n",
       "Genres_Role_Playing_Brain_Games                       0          0        nan        nan           0           0\n",
       "Genres_Role_Playing_Pretend_Play                 0.7804      0.493      1.584      0.113      -0.186       1.746\n",
       "Genres_Shopping                                  1.6088      0.121     13.245      0.000       1.371       1.847\n",
       "Genres_Simulation                                0.2076      0.082      2.538      0.011       0.047       0.368\n",
       "Genres_Simulation_Action_&_Adventure             0.4333      0.176      2.460      0.014       0.088       0.779\n",
       "Genres_Simulation_Education                      0.2594      0.287      0.904      0.366      -0.303       0.822\n",
       "Genres_Simulation_Pretend_Play                   0.2141      0.291      0.737      0.461      -0.355       0.784\n",
       "Genres_Social                                    1.6116      0.121     13.299      0.000       1.374       1.849\n",
       "Genres_Sports                                    0.0669      0.346      0.193      0.847      -0.612       0.746\n",
       "Genres_Sports_Action_&_Adventure                 0.2767      0.291      0.951      0.342      -0.294       0.847\n",
       "Genres_Strategy                                  0.1675      0.095      1.768      0.077      -0.018       0.353\n",
       "Genres_Strategy_Action_&_Adventure               0.3910      0.493      0.793      0.428      -0.576       1.358\n",
       "Genres_Strategy_Creativity                            0          0        nan        nan           0           0\n",
       "Genres_Strategy_Education                        0.8569      0.493      1.740      0.082      -0.109       1.822\n",
       "Genres_Tools                                     0.9933      0.181      5.473      0.000       0.638       1.349\n",
       "Genres_Tools_Education                           1.1522      0.334      3.445      0.001       0.497       1.808\n",
       "Genres_Travel_&_Local                            1.0204      0.183      5.578      0.000       0.662       1.379\n",
       "Genres_Travel_&_Local_Action_&_Adventure         1.1156      0.335      3.335      0.001       0.460       1.771\n",
       "Genres_Trivia                                   -0.1316      0.108     -1.221      0.222      -0.343       0.080\n",
       "Genres_Video_Players_&_Editors                   0.2532      0.603      0.420      0.675      -0.930       1.436\n",
       "Genres_Video_Players_&_Editors_Creativity        0.0344      0.493      0.070      0.944      -0.931       1.000\n",
       "Genres_Video_Players_&_Editors_Music_&_Video     0.1329      0.352      0.377      0.706      -0.558       0.823\n",
       "Genres_Weather                                   1.6195      0.125     12.999      0.000       1.375       1.864\n",
       "Genres_Word                                      0.1096      0.109      1.001      0.317      -0.105       0.324\n",
       "==============================================================================\n",
       "Omnibus:                     2313.775   Durbin-Watson:                   2.022\n",
       "Prob(Omnibus):                  0.000   Jarque-Bera (JB):            13556.581\n",
       "Skew:                          -1.673   Prob(JB):                         0.00\n",
       "Kurtosis:                       9.416   Cond. No.                     5.96e+20\n",
       "==============================================================================\n",
       "\n",
       "Notes:\n",
       "[1] R² is computed without centering (uncentered) since the model does not contain a constant.\n",
       "[2] Standard Errors assume that the covariance matrix of the errors is correctly specified.\n",
       "[3] The smallest eigenvalue is 1.73e-29. This might indicate that there are\n",
       "strong multicollinearity problems or that the design matrix is singular.\n",
       "\"\"\""
      ]
     },
     "execution_count": 44,
     "metadata": {},
     "output_type": "execute_result"
    }
   ],
   "source": [
    "model1.summary()"
   ]
  },
  {
   "cell_type": "code",
   "execution_count": 45,
   "id": "b0e9e572-b88a-45da-8744-918cdca062c0",
   "metadata": {},
   "outputs": [],
   "source": [
    "import sklearn.metrics as metrics\n",
    "y_test_pred= model1.predict(x_test)"
   ]
  },
  {
   "cell_type": "code",
   "execution_count": 46,
   "id": "2dcc18d4-7445-4642-9cd2-78530032bc0e",
   "metadata": {},
   "outputs": [
    {
     "name": "stdout",
     "output_type": "stream",
     "text": [
      "0.4920332628198343\n"
     ]
    }
   ],
   "source": [
    "#Assessing the model using RMSE\n",
    "print(np.sqrt(metrics.mean_squared_error(y_test, y_test_pred)))\n",
    "\n",
    "#RMSE of \"model1\" = 0.49203326281981113"
   ]
  },
  {
   "cell_type": "code",
   "execution_count": 47,
   "id": "deb25e59-d5c8-4522-93cd-478cec323ba4",
   "metadata": {},
   "outputs": [
    {
     "name": "stdout",
     "output_type": "stream",
     "text": [
      "MPE: -2.573037835063261\n"
     ]
    }
   ],
   "source": [
    "#Calculating MPE\n",
    "def MPE(y_test_pred,y_test):\n",
    "    return ( ((y_test - y_test_pred) / y_test).mean()) * 100\n",
    "\n",
    "print ('MPE: ' + str(MPE(y_test_pred,y_test)) )"
   ]
  },
  {
   "cell_type": "code",
   "execution_count": 48,
   "id": "ce93a598-4332-40d2-bbb7-1f7ced4e5d1d",
   "metadata": {},
   "outputs": [
    {
     "name": "stdout",
     "output_type": "stream",
     "text": [
      "MAPE: 9.490934337925378\n"
     ]
    }
   ],
   "source": [
    "#Calculating MAPE\n",
    "def MAPE(y_test_pred,y_test):\n",
    "    return np.mean(np.abs((y_test - y_test_pred) / y_test)) * 100\n",
    "    \n",
    "print ('MAPE: ' + str(MAPE(y_test_pred,y_test)) )"
   ]
  },
  {
   "cell_type": "code",
   "execution_count": 49,
   "id": "70972543-ebb1-44ee-a14b-9127b838ea58",
   "metadata": {},
   "outputs": [
    {
     "data": {
      "text/plain": [
       "Index(['Reviews', 'Installs', 'Category_AUTO_AND_VEHICLES', 'Category_BEAUTY',\n",
       "       'Category_BOOKS_AND_REFERENCE', 'Category_BUSINESS', 'Category_COMICS',\n",
       "       'Category_COMMUNICATION', 'Category_DATING', 'Category_EDUCATION',\n",
       "       'Category_ENTERTAINMENT', 'Category_EVENTS', 'Category_FAMILY',\n",
       "       'Category_FINANCE', 'Category_FOOD_AND_DRINK', 'Category_GAME',\n",
       "       'Category_HEALTH_AND_FITNESS', 'Category_HOUSE_AND_HOME',\n",
       "       'Category_LIBRARIES_AND_DEMO', 'Category_LIFESTYLE',\n",
       "       'Category_MAPS_AND_NAVIGATION', 'Category_MEDICAL',\n",
       "       'Category_NEWS_AND_MAGAZINES', 'Category_PARENTING',\n",
       "       'Category_PERSONALIZATION', 'Category_PHOTOGRAPHY',\n",
       "       'Category_PRODUCTIVITY', 'Category_SHOPPING', 'Category_SOCIAL',\n",
       "       'Category_SPORTS', 'Category_TOOLS', 'Category_TRAVEL_AND_LOCAL',\n",
       "       'Category_VIDEO_PLAYERS', 'Category_WEATHER', 'Type_Paid',\n",
       "       'Content_Rating_Everyone', 'Content_Rating_Everyone_10+',\n",
       "       'Content_Rating_Mature_17+', 'Content_Rating_Teen',\n",
       "       'Content_Rating_Unrated', 'Genres_Art_&_Design',\n",
       "       'Genres_Art_&_Design_Creativity', 'Genres_Art_&_Design_Pretend_Play',\n",
       "       'Genres_Auto_&_Vehicles', 'Genres_Beauty', 'Genres_Board_Brain_Games',\n",
       "       'Genres_Books_&_Reference', 'Genres_Business', 'Genres_Casual',\n",
       "       'Genres_Casual_Action_&_Adventure', 'Genres_Casual_Brain_Games',\n",
       "       'Genres_Casual_Pretend_Play', 'Genres_Comics',\n",
       "       'Genres_Comics_Creativity', 'Genres_Communication', 'Genres_Dating',\n",
       "       'Genres_Education', 'Genres_Education_Action_&_Adventure',\n",
       "       'Genres_Education_Creativity', 'Genres_Education_Education',\n",
       "       'Genres_Education_Pretend_Play', 'Genres_Educational_Education',\n",
       "       'Genres_Educational_Pretend_Play', 'Genres_Entertainment',\n",
       "       'Genres_Entertainment_Brain_Games', 'Genres_Entertainment_Creativity',\n",
       "       'Genres_Entertainment_Music_&_Video', 'Genres_Events', 'Genres_Finance',\n",
       "       'Genres_Food_&_Drink', 'Genres_Health_&_Fitness', 'Genres_House_&_Home',\n",
       "       'Genres_Libraries_&_Demo', 'Genres_Lifestyle',\n",
       "       'Genres_Maps_&_Navigation', 'Genres_Medical',\n",
       "       'Genres_Music_Music_&_Video', 'Genres_News_&_Magazines',\n",
       "       'Genres_Parenting', 'Genres_Parenting_Education',\n",
       "       'Genres_Parenting_Music_&_Video', 'Genres_Personalization',\n",
       "       'Genres_Photography', 'Genres_Productivity', 'Genres_Puzzle',\n",
       "       'Genres_Puzzle_Brain_Games', 'Genres_Racing_Action_&_Adventure',\n",
       "       'Genres_Role_Playing', 'Genres_Shopping', 'Genres_Simulation',\n",
       "       'Genres_Simulation_Action_&_Adventure', 'Genres_Social', 'Genres_Tools',\n",
       "       'Genres_Tools_Education', 'Genres_Travel_&_Local',\n",
       "       'Genres_Travel_&_Local_Action_&_Adventure', 'Genres_Weather'],\n",
       "      dtype='object')"
      ]
     },
     "execution_count": 49,
     "metadata": {},
     "output_type": "execute_result"
    }
   ],
   "source": [
    "model1.pvalues[model1.pvalues<=0.05].index"
   ]
  },
  {
   "cell_type": "code",
   "execution_count": 50,
   "id": "3c36232d-0336-4fd6-91f3-ed2f96c5409e",
   "metadata": {},
   "outputs": [],
   "source": [
    "#Create inp3\n",
    "inp3 = inp2[['Rating','Reviews', 'Installs', 'Category_AUTO_AND_VEHICLES', 'Category_BEAUTY',\n",
    "       'Category_BOOKS_AND_REFERENCE', 'Category_BUSINESS', 'Category_COMICS',\n",
    "       'Category_COMMUNICATION', 'Category_DATING', 'Category_EDUCATION',\n",
    "       'Category_ENTERTAINMENT', 'Category_EVENTS', 'Category_FAMILY',\n",
    "       'Category_FINANCE', 'Category_FOOD_AND_DRINK', 'Category_GAME',\n",
    "       'Category_HEALTH_AND_FITNESS', 'Category_HOUSE_AND_HOME',\n",
    "       'Category_LIBRARIES_AND_DEMO', 'Category_LIFESTYLE',\n",
    "       'Category_MAPS_AND_NAVIGATION', 'Category_MEDICAL',\n",
    "       'Category_NEWS_AND_MAGAZINES', 'Category_PARENTING',\n",
    "       'Category_PERSONALIZATION', 'Category_PHOTOGRAPHY',\n",
    "       'Category_PRODUCTIVITY', 'Category_SHOPPING', 'Category_SOCIAL',\n",
    "       'Category_SPORTS', 'Category_TOOLS', 'Category_TRAVEL_AND_LOCAL',\n",
    "       'Category_VIDEO_PLAYERS', 'Category_WEATHER', 'Type_Paid',\n",
    "       'Content_Rating_Everyone', 'Content_Rating_Everyone_10+',\n",
    "       'Content_Rating_Mature_17+', 'Content_Rating_Teen',\n",
    "       'Content_Rating_Unrated', 'Genres_Art_&_Design',\n",
    "       'Genres_Art_&_Design_Creativity', 'Genres_Art_&_Design_Pretend_Play',\n",
    "       'Genres_Auto_&_Vehicles', 'Genres_Beauty', 'Genres_Board_Brain_Games',\n",
    "       'Genres_Books_&_Reference', 'Genres_Business', 'Genres_Casual',\n",
    "       'Genres_Casual_Action_&_Adventure', 'Genres_Casual_Brain_Games',\n",
    "       'Genres_Casual_Pretend_Play', 'Genres_Comics',\n",
    "       'Genres_Comics_Creativity', 'Genres_Communication', 'Genres_Dating',\n",
    "       'Genres_Education', 'Genres_Education_Action_&_Adventure',\n",
    "       'Genres_Education_Creativity', 'Genres_Education_Education',\n",
    "       'Genres_Education_Pretend_Play', 'Genres_Educational_Education',\n",
    "       'Genres_Educational_Pretend_Play', 'Genres_Entertainment',\n",
    "       'Genres_Entertainment_Brain_Games', 'Genres_Entertainment_Creativity',\n",
    "       'Genres_Entertainment_Music_&_Video', 'Genres_Events', 'Genres_Finance',\n",
    "       'Genres_Food_&_Drink', 'Genres_Health_&_Fitness', 'Genres_House_&_Home',\n",
    "       'Genres_Libraries_&_Demo', 'Genres_Lifestyle',\n",
    "       'Genres_Maps_&_Navigation', 'Genres_Medical',\n",
    "       'Genres_Music_Music_&_Video', 'Genres_News_&_Magazines',\n",
    "       'Genres_Parenting', 'Genres_Parenting_Education',\n",
    "       'Genres_Parenting_Music_&_Video', 'Genres_Personalization',\n",
    "       'Genres_Photography', 'Genres_Productivity', 'Genres_Puzzle',\n",
    "       'Genres_Puzzle_Brain_Games', 'Genres_Racing_Action_&_Adventure',\n",
    "       'Genres_Role_Playing', 'Genres_Shopping', 'Genres_Simulation',\n",
    "       'Genres_Simulation_Action_&_Adventure', 'Genres_Social', 'Genres_Tools',\n",
    "       'Genres_Tools_Education', 'Genres_Travel_&_Local',\n",
    "       'Genres_Travel_&_Local_Action_&_Adventure', 'Genres_Weather']]"
   ]
  },
  {
   "cell_type": "code",
   "execution_count": 51,
   "id": "bc0f07ed-95f0-4437-80c9-7a824acf280a",
   "metadata": {},
   "outputs": [
    {
     "data": {
      "text/plain": [
       "(8879, 98)"
      ]
     },
     "execution_count": 51,
     "metadata": {},
     "output_type": "execute_result"
    }
   ],
   "source": [
    "inp3.shape"
   ]
  },
  {
   "cell_type": "code",
   "execution_count": 52,
   "id": "782a7eb4-6c67-496f-8005-7964bd44373c",
   "metadata": {},
   "outputs": [
    {
     "data": {
      "text/plain": [
       "Rating                                      float64\n",
       "Reviews                                     float64\n",
       "Installs                                    float64\n",
       "Category_AUTO_AND_VEHICLES                    uint8\n",
       "Category_BEAUTY                               uint8\n",
       "                                             ...   \n",
       "Genres_Tools                                  uint8\n",
       "Genres_Tools_Education                        uint8\n",
       "Genres_Travel_&_Local                         uint8\n",
       "Genres_Travel_&_Local_Action_&_Adventure      uint8\n",
       "Genres_Weather                                uint8\n",
       "Length: 98, dtype: object"
      ]
     },
     "execution_count": 52,
     "metadata": {},
     "output_type": "execute_result"
    }
   ],
   "source": [
    "inp3.dtypes"
   ]
  },
  {
   "cell_type": "code",
   "execution_count": 53,
   "id": "c6c94277-3fbb-4bae-929d-0fd71a5470be",
   "metadata": {},
   "outputs": [],
   "source": [
    "df_train, df_test = train_test_split(inp3, train_size = 0.7, random_state = 100)"
   ]
  },
  {
   "cell_type": "code",
   "execution_count": 54,
   "id": "73d30993-e711-4a90-8152-1681eee68f82",
   "metadata": {},
   "outputs": [
    {
     "data": {
      "text/plain": [
       "((6215, 98), (2664, 98))"
      ]
     },
     "execution_count": 54,
     "metadata": {},
     "output_type": "execute_result"
    }
   ],
   "source": [
    "df_train.shape, df_test.shape"
   ]
  },
  {
   "cell_type": "code",
   "execution_count": 55,
   "id": "b1ee4440-6380-43cf-be63-771c0312c04b",
   "metadata": {},
   "outputs": [],
   "source": [
    "y_train1 = df_train.pop(\"Rating\")\n",
    "x_train1 = df_train"
   ]
  },
  {
   "cell_type": "code",
   "execution_count": 56,
   "id": "cecd12d8-7fcc-4479-9749-f43d671c5949",
   "metadata": {},
   "outputs": [],
   "source": [
    "y_test1 = df_test.pop(\"Rating\")\n",
    "x_test1 = df_test"
   ]
  },
  {
   "cell_type": "code",
   "execution_count": 57,
   "id": "8addaaba-b039-47c0-84d3-ebced2833265",
   "metadata": {},
   "outputs": [],
   "source": [
    "model2 = sm.OLS(y_train1, x_train1)"
   ]
  },
  {
   "cell_type": "code",
   "execution_count": 58,
   "id": "9cb64065-8833-4ef2-9a52-6abd7a570cfa",
   "metadata": {},
   "outputs": [],
   "source": [
    "model2 = model2.fit()"
   ]
  },
  {
   "cell_type": "code",
   "execution_count": 59,
   "id": "d959d768-dbf5-4115-bc95-79a815f7349c",
   "metadata": {},
   "outputs": [
    {
     "data": {
      "text/html": [
       "<table class=\"simpletable\">\n",
       "<caption>OLS Regression Results</caption>\n",
       "<tr>\n",
       "  <th>Dep. Variable:</th>         <td>Rating</td>      <th>  R-squared (uncentered):</th>      <td>   0.987</td>\n",
       "</tr>\n",
       "<tr>\n",
       "  <th>Model:</th>                   <td>OLS</td>       <th>  Adj. R-squared (uncentered):</th> <td>   0.987</td>\n",
       "</tr>\n",
       "<tr>\n",
       "  <th>Method:</th>             <td>Least Squares</td>  <th>  F-statistic:       </th>          <td>   6504.</td>\n",
       "</tr>\n",
       "<tr>\n",
       "  <th>Date:</th>             <td>Sat, 02 Sep 2023</td> <th>  Prob (F-statistic):</th>           <td>  0.00</td> \n",
       "</tr>\n",
       "<tr>\n",
       "  <th>Time:</th>                 <td>12:15:24</td>     <th>  Log-Likelihood:    </th>          <td> -4302.6</td>\n",
       "</tr>\n",
       "<tr>\n",
       "  <th>No. Observations:</th>      <td>  6215</td>      <th>  AIC:               </th>          <td>   8747.</td>\n",
       "</tr>\n",
       "<tr>\n",
       "  <th>Df Residuals:</th>          <td>  6144</td>      <th>  BIC:               </th>          <td>   9225.</td>\n",
       "</tr>\n",
       "<tr>\n",
       "  <th>Df Model:</th>              <td>    71</td>      <th>                     </th>              <td> </td>   \n",
       "</tr>\n",
       "<tr>\n",
       "  <th>Covariance Type:</th>      <td>nonrobust</td>    <th>                     </th>              <td> </td>   \n",
       "</tr>\n",
       "</table>\n",
       "<table class=\"simpletable\">\n",
       "<tr>\n",
       "                      <td></td>                        <th>coef</th>     <th>std err</th>      <th>t</th>      <th>P>|t|</th>  <th>[0.025</th>    <th>0.975]</th>  \n",
       "</tr>\n",
       "<tr>\n",
       "  <th>Reviews</th>                                  <td>    0.1738</td> <td>    0.006</td> <td>   28.132</td> <td> 0.000</td> <td>    0.162</td> <td>    0.186</td>\n",
       "</tr>\n",
       "<tr>\n",
       "  <th>Installs</th>                                 <td>   -0.1479</td> <td>    0.006</td> <td>  -24.055</td> <td> 0.000</td> <td>   -0.160</td> <td>   -0.136</td>\n",
       "</tr>\n",
       "<tr>\n",
       "  <th>Category_AUTO_AND_VEHICLES</th>               <td>    1.5997</td> <td>    0.124</td> <td>   12.896</td> <td> 0.000</td> <td>    1.357</td> <td>    1.843</td>\n",
       "</tr>\n",
       "<tr>\n",
       "  <th>Category_BEAUTY</th>                          <td>    1.6842</td> <td>    0.127</td> <td>   13.237</td> <td> 0.000</td> <td>    1.435</td> <td>    1.934</td>\n",
       "</tr>\n",
       "<tr>\n",
       "  <th>Category_BOOKS_AND_REFERENCE</th>             <td>    1.6478</td> <td>    0.121</td> <td>   13.598</td> <td> 0.000</td> <td>    1.410</td> <td>    1.885</td>\n",
       "</tr>\n",
       "<tr>\n",
       "  <th>Category_BUSINESS</th>                        <td>    1.5673</td> <td>    0.120</td> <td>   13.034</td> <td> 0.000</td> <td>    1.332</td> <td>    1.803</td>\n",
       "</tr>\n",
       "<tr>\n",
       "  <th>Category_COMICS</th>                          <td>    2.3321</td> <td>    0.225</td> <td>   10.342</td> <td> 0.000</td> <td>    1.890</td> <td>    2.774</td>\n",
       "</tr>\n",
       "<tr>\n",
       "  <th>Category_COMMUNICATION</th>                   <td>    1.5107</td> <td>    0.121</td> <td>   12.527</td> <td> 0.000</td> <td>    1.274</td> <td>    1.747</td>\n",
       "</tr>\n",
       "<tr>\n",
       "  <th>Category_DATING</th>                          <td>    1.4689</td> <td>    0.122</td> <td>   12.051</td> <td> 0.000</td> <td>    1.230</td> <td>    1.708</td>\n",
       "</tr>\n",
       "<tr>\n",
       "  <th>Category_EDUCATION</th>                       <td>    2.9756</td> <td>    0.247</td> <td>   12.059</td> <td> 0.000</td> <td>    2.492</td> <td>    3.459</td>\n",
       "</tr>\n",
       "<tr>\n",
       "  <th>Category_ENTERTAINMENT</th>                   <td>    2.8889</td> <td>    0.247</td> <td>   11.707</td> <td> 0.000</td> <td>    2.405</td> <td>    3.373</td>\n",
       "</tr>\n",
       "<tr>\n",
       "  <th>Category_EVENTS</th>                          <td>    1.7090</td> <td>    0.126</td> <td>   13.576</td> <td> 0.000</td> <td>    1.462</td> <td>    1.956</td>\n",
       "</tr>\n",
       "<tr>\n",
       "  <th>Category_FAMILY</th>                          <td>    3.0087</td> <td>    0.239</td> <td>   12.582</td> <td> 0.000</td> <td>    2.540</td> <td>    3.477</td>\n",
       "</tr>\n",
       "<tr>\n",
       "  <th>Category_FINANCE</th>                         <td>    1.5307</td> <td>    0.120</td> <td>   12.732</td> <td> 0.000</td> <td>    1.295</td> <td>    1.766</td>\n",
       "</tr>\n",
       "<tr>\n",
       "  <th>Category_FOOD_AND_DRINK</th>                  <td>    1.5607</td> <td>    0.122</td> <td>   12.760</td> <td> 0.000</td> <td>    1.321</td> <td>    1.800</td>\n",
       "</tr>\n",
       "<tr>\n",
       "  <th>Category_GAME</th>                            <td>    3.0848</td> <td>    0.239</td> <td>   12.908</td> <td> 0.000</td> <td>    2.616</td> <td>    3.553</td>\n",
       "</tr>\n",
       "<tr>\n",
       "  <th>Category_HEALTH_AND_FITNESS</th>              <td>    1.5907</td> <td>    0.120</td> <td>   13.216</td> <td> 0.000</td> <td>    1.355</td> <td>    1.827</td>\n",
       "</tr>\n",
       "<tr>\n",
       "  <th>Category_HOUSE_AND_HOME</th>                  <td>    1.5767</td> <td>    0.124</td> <td>   12.760</td> <td> 0.000</td> <td>    1.334</td> <td>    1.819</td>\n",
       "</tr>\n",
       "<tr>\n",
       "  <th>Category_LIBRARIES_AND_DEMO</th>              <td>    1.6165</td> <td>    0.124</td> <td>   13.014</td> <td> 0.000</td> <td>    1.373</td> <td>    1.860</td>\n",
       "</tr>\n",
       "<tr>\n",
       "  <th>Category_LIFESTYLE</th>                       <td>    1.5543</td> <td>    0.120</td> <td>   12.919</td> <td> 0.000</td> <td>    1.318</td> <td>    1.790</td>\n",
       "</tr>\n",
       "<tr>\n",
       "  <th>Category_MAPS_AND_NAVIGATION</th>             <td>    1.4831</td> <td>    0.122</td> <td>   12.154</td> <td> 0.000</td> <td>    1.244</td> <td>    1.722</td>\n",
       "</tr>\n",
       "<tr>\n",
       "  <th>Category_MEDICAL</th>                         <td>    1.5984</td> <td>    0.120</td> <td>   13.312</td> <td> 0.000</td> <td>    1.363</td> <td>    1.834</td>\n",
       "</tr>\n",
       "<tr>\n",
       "  <th>Category_NEWS_AND_MAGAZINES</th>              <td>    1.5285</td> <td>    0.121</td> <td>   12.670</td> <td> 0.000</td> <td>    1.292</td> <td>    1.765</td>\n",
       "</tr>\n",
       "<tr>\n",
       "  <th>Category_PARENTING</th>                       <td>    2.4737</td> <td>    0.212</td> <td>   11.679</td> <td> 0.000</td> <td>    2.058</td> <td>    2.889</td>\n",
       "</tr>\n",
       "<tr>\n",
       "  <th>Category_PERSONALIZATION</th>                 <td>    1.6409</td> <td>    0.120</td> <td>   13.638</td> <td> 0.000</td> <td>    1.405</td> <td>    1.877</td>\n",
       "</tr>\n",
       "<tr>\n",
       "  <th>Category_PHOTOGRAPHY</th>                     <td>    1.5469</td> <td>    0.121</td> <td>   12.835</td> <td> 0.000</td> <td>    1.311</td> <td>    1.783</td>\n",
       "</tr>\n",
       "<tr>\n",
       "  <th>Category_PRODUCTIVITY</th>                    <td>    1.5834</td> <td>    0.120</td> <td>   13.159</td> <td> 0.000</td> <td>    1.348</td> <td>    1.819</td>\n",
       "</tr>\n",
       "<tr>\n",
       "  <th>Category_SHOPPING</th>                        <td>    1.5715</td> <td>    0.121</td> <td>   13.007</td> <td> 0.000</td> <td>    1.335</td> <td>    1.808</td>\n",
       "</tr>\n",
       "<tr>\n",
       "  <th>Category_SOCIAL</th>                          <td>    1.5773</td> <td>    0.121</td> <td>   13.079</td> <td> 0.000</td> <td>    1.341</td> <td>    1.814</td>\n",
       "</tr>\n",
       "<tr>\n",
       "  <th>Category_SPORTS</th>                          <td>    3.0838</td> <td>    0.239</td> <td>   12.878</td> <td> 0.000</td> <td>    2.614</td> <td>    3.553</td>\n",
       "</tr>\n",
       "<tr>\n",
       "  <th>Category_TOOLS</th>                           <td>    2.0965</td> <td>    0.227</td> <td>    9.227</td> <td> 0.000</td> <td>    1.651</td> <td>    2.542</td>\n",
       "</tr>\n",
       "<tr>\n",
       "  <th>Category_TRAVEL_AND_LOCAL</th>                <td>    2.0849</td> <td>    0.227</td> <td>    9.165</td> <td> 0.000</td> <td>    1.639</td> <td>    2.531</td>\n",
       "</tr>\n",
       "<tr>\n",
       "  <th>Category_VIDEO_PLAYERS</th>                   <td>    3.0408</td> <td>    0.243</td> <td>   12.508</td> <td> 0.000</td> <td>    2.564</td> <td>    3.517</td>\n",
       "</tr>\n",
       "<tr>\n",
       "  <th>Category_WEATHER</th>                         <td>    1.5818</td> <td>    0.124</td> <td>   12.763</td> <td> 0.000</td> <td>    1.339</td> <td>    1.825</td>\n",
       "</tr>\n",
       "<tr>\n",
       "  <th>Type_Paid</th>                                <td>   -0.0791</td> <td>    0.027</td> <td>   -2.923</td> <td> 0.003</td> <td>   -0.132</td> <td>   -0.026</td>\n",
       "</tr>\n",
       "<tr>\n",
       "  <th>Content_Rating_Everyone</th>                  <td>    1.4443</td> <td>    0.237</td> <td>    6.083</td> <td> 0.000</td> <td>    0.979</td> <td>    1.910</td>\n",
       "</tr>\n",
       "<tr>\n",
       "  <th>Content_Rating_Everyone_10+</th>              <td>    1.4342</td> <td>    0.239</td> <td>    5.992</td> <td> 0.000</td> <td>    0.965</td> <td>    1.903</td>\n",
       "</tr>\n",
       "<tr>\n",
       "  <th>Content_Rating_Mature_17+</th>                <td>    1.4169</td> <td>    0.240</td> <td>    5.908</td> <td> 0.000</td> <td>    0.947</td> <td>    1.887</td>\n",
       "</tr>\n",
       "<tr>\n",
       "  <th>Content_Rating_Teen</th>                      <td>    1.4389</td> <td>    0.238</td> <td>    6.050</td> <td> 0.000</td> <td>    0.973</td> <td>    1.905</td>\n",
       "</tr>\n",
       "<tr>\n",
       "  <th>Content_Rating_Unrated</th>                   <td>    1.4044</td> <td>    0.542</td> <td>    2.593</td> <td> 0.010</td> <td>    0.343</td> <td>    2.466</td>\n",
       "</tr>\n",
       "<tr>\n",
       "  <th>Genres_Art_&_Design</th>                      <td>    3.3913</td> <td>    0.252</td> <td>   13.483</td> <td> 0.000</td> <td>    2.898</td> <td>    3.884</td>\n",
       "</tr>\n",
       "<tr>\n",
       "  <th>Genres_Art_&_Design_Creativity</th>           <td>    2.4859</td> <td>    0.255</td> <td>    9.748</td> <td> 0.000</td> <td>    1.986</td> <td>    2.986</td>\n",
       "</tr>\n",
       "<tr>\n",
       "  <th>Genres_Art_&_Design_Pretend_Play</th>         <td>    3.2012</td> <td>    0.542</td> <td>    5.905</td> <td> 0.000</td> <td>    2.138</td> <td>    4.264</td>\n",
       "</tr>\n",
       "<tr>\n",
       "  <th>Genres_Auto_&_Vehicles</th>                   <td>    1.5997</td> <td>    0.124</td> <td>   12.896</td> <td> 0.000</td> <td>    1.357</td> <td>    1.843</td>\n",
       "</tr>\n",
       "<tr>\n",
       "  <th>Genres_Beauty</th>                            <td>    1.6842</td> <td>    0.127</td> <td>   13.237</td> <td> 0.000</td> <td>    1.435</td> <td>    1.934</td>\n",
       "</tr>\n",
       "<tr>\n",
       "  <th>Genres_Board_Brain_Games</th>                 <td>    0.2896</td> <td>    0.158</td> <td>    1.830</td> <td> 0.067</td> <td>   -0.021</td> <td>    0.600</td>\n",
       "</tr>\n",
       "<tr>\n",
       "  <th>Genres_Books_&_Reference</th>                 <td>    1.6478</td> <td>    0.121</td> <td>   13.598</td> <td> 0.000</td> <td>    1.410</td> <td>    1.885</td>\n",
       "</tr>\n",
       "<tr>\n",
       "  <th>Genres_Business</th>                          <td>    1.5673</td> <td>    0.120</td> <td>   13.034</td> <td> 0.000</td> <td>    1.332</td> <td>    1.803</td>\n",
       "</tr>\n",
       "<tr>\n",
       "  <th>Genres_Casual</th>                            <td>    0.0156</td> <td>    0.057</td> <td>    0.274</td> <td> 0.784</td> <td>   -0.096</td> <td>    0.127</td>\n",
       "</tr>\n",
       "<tr>\n",
       "  <th>Genres_Casual_Action_&_Adventure</th>         <td>    0.2121</td> <td>    0.145</td> <td>    1.467</td> <td> 0.142</td> <td>   -0.071</td> <td>    0.496</td>\n",
       "</tr>\n",
       "<tr>\n",
       "  <th>Genres_Casual_Brain_Games</th>                <td>    0.4872</td> <td>    0.175</td> <td>    2.787</td> <td> 0.005</td> <td>    0.145</td> <td>    0.830</td>\n",
       "</tr>\n",
       "<tr>\n",
       "  <th>Genres_Casual_Pretend_Play</th>               <td>    0.0817</td> <td>    0.109</td> <td>    0.749</td> <td> 0.454</td> <td>   -0.132</td> <td>    0.295</td>\n",
       "</tr>\n",
       "<tr>\n",
       "  <th>Genres_Comics</th>                            <td>    0.7946</td> <td>    0.185</td> <td>    4.293</td> <td> 0.000</td> <td>    0.432</td> <td>    1.157</td>\n",
       "</tr>\n",
       "<tr>\n",
       "  <th>Genres_Comics_Creativity</th>                 <td>    1.5376</td> <td>    0.336</td> <td>    4.575</td> <td> 0.000</td> <td>    0.879</td> <td>    2.196</td>\n",
       "</tr>\n",
       "<tr>\n",
       "  <th>Genres_Communication</th>                     <td>    1.5107</td> <td>    0.121</td> <td>   12.527</td> <td> 0.000</td> <td>    1.274</td> <td>    1.747</td>\n",
       "</tr>\n",
       "<tr>\n",
       "  <th>Genres_Dating</th>                            <td>    1.4689</td> <td>    0.122</td> <td>   12.051</td> <td> 0.000</td> <td>    1.230</td> <td>    1.708</td>\n",
       "</tr>\n",
       "<tr>\n",
       "  <th>Genres_Education</th>                         <td>    0.2976</td> <td>    0.047</td> <td>    6.344</td> <td> 0.000</td> <td>    0.206</td> <td>    0.390</td>\n",
       "</tr>\n",
       "<tr>\n",
       "  <th>Genres_Education_Action_&_Adventure</th>      <td>    0.6269</td> <td>    0.284</td> <td>    2.208</td> <td> 0.027</td> <td>    0.070</td> <td>    1.184</td>\n",
       "</tr>\n",
       "<tr>\n",
       "  <th>Genres_Education_Creativity</th>              <td>    0.5818</td> <td>    0.222</td> <td>    2.622</td> <td> 0.009</td> <td>    0.147</td> <td>    1.017</td>\n",
       "</tr>\n",
       "<tr>\n",
       "  <th>Genres_Education_Education</th>               <td>    0.3693</td> <td>    0.095</td> <td>    3.904</td> <td> 0.000</td> <td>    0.184</td> <td>    0.555</td>\n",
       "</tr>\n",
       "<tr>\n",
       "  <th>Genres_Education_Pretend_Play</th>            <td>    0.3649</td> <td>    0.115</td> <td>    3.163</td> <td> 0.002</td> <td>    0.139</td> <td>    0.591</td>\n",
       "</tr>\n",
       "<tr>\n",
       "  <th>Genres_Educational_Education</th>             <td>    0.2575</td> <td>    0.099</td> <td>    2.613</td> <td> 0.009</td> <td>    0.064</td> <td>    0.451</td>\n",
       "</tr>\n",
       "<tr>\n",
       "  <th>Genres_Educational_Pretend_Play</th>          <td>    0.1596</td> <td>    0.135</td> <td>    1.185</td> <td> 0.236</td> <td>   -0.104</td> <td>    0.424</td>\n",
       "</tr>\n",
       "<tr>\n",
       "  <th>Genres_Entertainment</th>                     <td>    0.0798</td> <td>    0.046</td> <td>    1.745</td> <td> 0.081</td> <td>   -0.010</td> <td>    0.170</td>\n",
       "</tr>\n",
       "<tr>\n",
       "  <th>Genres_Entertainment_Brain_Games</th>         <td>    0.2568</td> <td>    0.188</td> <td>    1.367</td> <td> 0.172</td> <td>   -0.112</td> <td>    0.625</td>\n",
       "</tr>\n",
       "<tr>\n",
       "  <th>Genres_Entertainment_Creativity</th>          <td>    0.5180</td> <td>    0.347</td> <td>    1.493</td> <td> 0.136</td> <td>   -0.162</td> <td>    1.198</td>\n",
       "</tr>\n",
       "<tr>\n",
       "  <th>Genres_Entertainment_Music_&_Video</th>       <td>    0.2096</td> <td>    0.140</td> <td>    1.497</td> <td> 0.134</td> <td>   -0.065</td> <td>    0.484</td>\n",
       "</tr>\n",
       "<tr>\n",
       "  <th>Genres_Events</th>                            <td>    1.7090</td> <td>    0.126</td> <td>   13.576</td> <td> 0.000</td> <td>    1.462</td> <td>    1.956</td>\n",
       "</tr>\n",
       "<tr>\n",
       "  <th>Genres_Finance</th>                           <td>    1.5307</td> <td>    0.120</td> <td>   12.732</td> <td> 0.000</td> <td>    1.295</td> <td>    1.766</td>\n",
       "</tr>\n",
       "<tr>\n",
       "  <th>Genres_Food_&_Drink</th>                      <td>    1.5607</td> <td>    0.122</td> <td>   12.760</td> <td> 0.000</td> <td>    1.321</td> <td>    1.800</td>\n",
       "</tr>\n",
       "<tr>\n",
       "  <th>Genres_Health_&_Fitness</th>                  <td>    1.5907</td> <td>    0.120</td> <td>   13.216</td> <td> 0.000</td> <td>    1.355</td> <td>    1.827</td>\n",
       "</tr>\n",
       "<tr>\n",
       "  <th>Genres_House_&_Home</th>                      <td>    1.5767</td> <td>    0.124</td> <td>   12.760</td> <td> 0.000</td> <td>    1.334</td> <td>    1.819</td>\n",
       "</tr>\n",
       "<tr>\n",
       "  <th>Genres_Libraries_&_Demo</th>                  <td>    1.6165</td> <td>    0.124</td> <td>   13.014</td> <td> 0.000</td> <td>    1.373</td> <td>    1.860</td>\n",
       "</tr>\n",
       "<tr>\n",
       "  <th>Genres_Lifestyle</th>                         <td>    1.5543</td> <td>    0.120</td> <td>   12.919</td> <td> 0.000</td> <td>    1.318</td> <td>    1.790</td>\n",
       "</tr>\n",
       "<tr>\n",
       "  <th>Genres_Maps_&_Navigation</th>                 <td>    1.4831</td> <td>    0.122</td> <td>   12.154</td> <td> 0.000</td> <td>    1.244</td> <td>    1.722</td>\n",
       "</tr>\n",
       "<tr>\n",
       "  <th>Genres_Medical</th>                           <td>    1.5984</td> <td>    0.120</td> <td>   13.312</td> <td> 0.000</td> <td>    1.363</td> <td>    1.834</td>\n",
       "</tr>\n",
       "<tr>\n",
       "  <th>Genres_Music_Music_&_Video</th>               <td>    0.5728</td> <td>    0.346</td> <td>    1.657</td> <td> 0.098</td> <td>   -0.105</td> <td>    1.251</td>\n",
       "</tr>\n",
       "<tr>\n",
       "  <th>Genres_News_&_Magazines</th>                  <td>    1.5285</td> <td>    0.121</td> <td>   12.670</td> <td> 0.000</td> <td>    1.292</td> <td>    1.765</td>\n",
       "</tr>\n",
       "<tr>\n",
       "  <th>Genres_Parenting</th>                         <td>    0.8721</td> <td>    0.142</td> <td>    6.147</td> <td> 0.000</td> <td>    0.594</td> <td>    1.150</td>\n",
       "</tr>\n",
       "<tr>\n",
       "  <th>Genres_Parenting_Education</th>               <td>    0.6579</td> <td>    0.275</td> <td>    2.393</td> <td> 0.017</td> <td>    0.119</td> <td>    1.197</td>\n",
       "</tr>\n",
       "<tr>\n",
       "  <th>Genres_Parenting_Music_&_Video</th>           <td>    0.9437</td> <td>    0.236</td> <td>    3.996</td> <td> 0.000</td> <td>    0.481</td> <td>    1.407</td>\n",
       "</tr>\n",
       "<tr>\n",
       "  <th>Genres_Personalization</th>                   <td>    1.6409</td> <td>    0.120</td> <td>   13.638</td> <td> 0.000</td> <td>    1.405</td> <td>    1.877</td>\n",
       "</tr>\n",
       "<tr>\n",
       "  <th>Genres_Photography</th>                       <td>    1.5469</td> <td>    0.121</td> <td>   12.835</td> <td> 0.000</td> <td>    1.311</td> <td>    1.783</td>\n",
       "</tr>\n",
       "<tr>\n",
       "  <th>Genres_Productivity</th>                      <td>    1.5834</td> <td>    0.120</td> <td>   13.159</td> <td> 0.000</td> <td>    1.348</td> <td>    1.819</td>\n",
       "</tr>\n",
       "<tr>\n",
       "  <th>Genres_Puzzle</th>                            <td>    0.1945</td> <td>    0.059</td> <td>    3.276</td> <td> 0.001</td> <td>    0.078</td> <td>    0.311</td>\n",
       "</tr>\n",
       "<tr>\n",
       "  <th>Genres_Puzzle_Brain_Games</th>                <td>    0.2867</td> <td>    0.130</td> <td>    2.200</td> <td> 0.028</td> <td>    0.031</td> <td>    0.542</td>\n",
       "</tr>\n",
       "<tr>\n",
       "  <th>Genres_Racing_Action_&_Adventure</th>         <td>    0.2683</td> <td>    0.135</td> <td>    1.992</td> <td> 0.046</td> <td>    0.004</td> <td>    0.532</td>\n",
       "</tr>\n",
       "<tr>\n",
       "  <th>Genres_Role_Playing</th>                      <td>    0.0162</td> <td>    0.063</td> <td>    0.258</td> <td> 0.797</td> <td>   -0.107</td> <td>    0.139</td>\n",
       "</tr>\n",
       "<tr>\n",
       "  <th>Genres_Shopping</th>                          <td>    1.5715</td> <td>    0.121</td> <td>   13.007</td> <td> 0.000</td> <td>    1.335</td> <td>    1.808</td>\n",
       "</tr>\n",
       "<tr>\n",
       "  <th>Genres_Simulation</th>                        <td>    0.0251</td> <td>    0.053</td> <td>    0.474</td> <td> 0.635</td> <td>   -0.078</td> <td>    0.129</td>\n",
       "</tr>\n",
       "<tr>\n",
       "  <th>Genres_Simulation_Action_&_Adventure</th>     <td>    0.2541</td> <td>    0.165</td> <td>    1.538</td> <td> 0.124</td> <td>   -0.070</td> <td>    0.578</td>\n",
       "</tr>\n",
       "<tr>\n",
       "  <th>Genres_Social</th>                            <td>    1.5773</td> <td>    0.121</td> <td>   13.079</td> <td> 0.000</td> <td>    1.341</td> <td>    1.814</td>\n",
       "</tr>\n",
       "<tr>\n",
       "  <th>Genres_Tools</th>                             <td>    0.9687</td> <td>    0.181</td> <td>    5.347</td> <td> 0.000</td> <td>    0.614</td> <td>    1.324</td>\n",
       "</tr>\n",
       "<tr>\n",
       "  <th>Genres_Tools_Education</th>                   <td>    1.1278</td> <td>    0.334</td> <td>    3.377</td> <td> 0.001</td> <td>    0.473</td> <td>    1.783</td>\n",
       "</tr>\n",
       "<tr>\n",
       "  <th>Genres_Travel_&_Local</th>                    <td>    0.9922</td> <td>    0.183</td> <td>    5.435</td> <td> 0.000</td> <td>    0.634</td> <td>    1.350</td>\n",
       "</tr>\n",
       "<tr>\n",
       "  <th>Genres_Travel_&_Local_Action_&_Adventure</th> <td>    1.0927</td> <td>    0.334</td> <td>    3.271</td> <td> 0.001</td> <td>    0.438</td> <td>    1.748</td>\n",
       "</tr>\n",
       "<tr>\n",
       "  <th>Genres_Weather</th>                           <td>    1.5818</td> <td>    0.124</td> <td>   12.763</td> <td> 0.000</td> <td>    1.339</td> <td>    1.825</td>\n",
       "</tr>\n",
       "</table>\n",
       "<table class=\"simpletable\">\n",
       "<tr>\n",
       "  <th>Omnibus:</th>       <td>2310.938</td> <th>  Durbin-Watson:     </th> <td>   2.021</td> \n",
       "</tr>\n",
       "<tr>\n",
       "  <th>Prob(Omnibus):</th>  <td> 0.000</td>  <th>  Jarque-Bera (JB):  </th> <td>13517.226</td>\n",
       "</tr>\n",
       "<tr>\n",
       "  <th>Skew:</th>           <td>-1.671</td>  <th>  Prob(JB):          </th> <td>    0.00</td> \n",
       "</tr>\n",
       "<tr>\n",
       "  <th>Kurtosis:</th>       <td> 9.406</td>  <th>  Cond. No.          </th> <td>1.23e+16</td> \n",
       "</tr>\n",
       "</table><br/><br/>Notes:<br/>[1] R² is computed without centering (uncentered) since the model does not contain a constant.<br/>[2] Standard Errors assume that the covariance matrix of the errors is correctly specified.<br/>[3] The smallest eigenvalue is 9.48e-27. This might indicate that there are<br/>strong multicollinearity problems or that the design matrix is singular."
      ],
      "text/plain": [
       "<class 'statsmodels.iolib.summary.Summary'>\n",
       "\"\"\"\n",
       "                                 OLS Regression Results                                \n",
       "=======================================================================================\n",
       "Dep. Variable:                 Rating   R-squared (uncentered):                   0.987\n",
       "Model:                            OLS   Adj. R-squared (uncentered):              0.987\n",
       "Method:                 Least Squares   F-statistic:                              6504.\n",
       "Date:                Sat, 02 Sep 2023   Prob (F-statistic):                        0.00\n",
       "Time:                        12:15:24   Log-Likelihood:                         -4302.6\n",
       "No. Observations:                6215   AIC:                                      8747.\n",
       "Df Residuals:                    6144   BIC:                                      9225.\n",
       "Df Model:                          71                                                  \n",
       "Covariance Type:            nonrobust                                                  \n",
       "============================================================================================================\n",
       "                                               coef    std err          t      P>|t|      [0.025      0.975]\n",
       "------------------------------------------------------------------------------------------------------------\n",
       "Reviews                                      0.1738      0.006     28.132      0.000       0.162       0.186\n",
       "Installs                                    -0.1479      0.006    -24.055      0.000      -0.160      -0.136\n",
       "Category_AUTO_AND_VEHICLES                   1.5997      0.124     12.896      0.000       1.357       1.843\n",
       "Category_BEAUTY                              1.6842      0.127     13.237      0.000       1.435       1.934\n",
       "Category_BOOKS_AND_REFERENCE                 1.6478      0.121     13.598      0.000       1.410       1.885\n",
       "Category_BUSINESS                            1.5673      0.120     13.034      0.000       1.332       1.803\n",
       "Category_COMICS                              2.3321      0.225     10.342      0.000       1.890       2.774\n",
       "Category_COMMUNICATION                       1.5107      0.121     12.527      0.000       1.274       1.747\n",
       "Category_DATING                              1.4689      0.122     12.051      0.000       1.230       1.708\n",
       "Category_EDUCATION                           2.9756      0.247     12.059      0.000       2.492       3.459\n",
       "Category_ENTERTAINMENT                       2.8889      0.247     11.707      0.000       2.405       3.373\n",
       "Category_EVENTS                              1.7090      0.126     13.576      0.000       1.462       1.956\n",
       "Category_FAMILY                              3.0087      0.239     12.582      0.000       2.540       3.477\n",
       "Category_FINANCE                             1.5307      0.120     12.732      0.000       1.295       1.766\n",
       "Category_FOOD_AND_DRINK                      1.5607      0.122     12.760      0.000       1.321       1.800\n",
       "Category_GAME                                3.0848      0.239     12.908      0.000       2.616       3.553\n",
       "Category_HEALTH_AND_FITNESS                  1.5907      0.120     13.216      0.000       1.355       1.827\n",
       "Category_HOUSE_AND_HOME                      1.5767      0.124     12.760      0.000       1.334       1.819\n",
       "Category_LIBRARIES_AND_DEMO                  1.6165      0.124     13.014      0.000       1.373       1.860\n",
       "Category_LIFESTYLE                           1.5543      0.120     12.919      0.000       1.318       1.790\n",
       "Category_MAPS_AND_NAVIGATION                 1.4831      0.122     12.154      0.000       1.244       1.722\n",
       "Category_MEDICAL                             1.5984      0.120     13.312      0.000       1.363       1.834\n",
       "Category_NEWS_AND_MAGAZINES                  1.5285      0.121     12.670      0.000       1.292       1.765\n",
       "Category_PARENTING                           2.4737      0.212     11.679      0.000       2.058       2.889\n",
       "Category_PERSONALIZATION                     1.6409      0.120     13.638      0.000       1.405       1.877\n",
       "Category_PHOTOGRAPHY                         1.5469      0.121     12.835      0.000       1.311       1.783\n",
       "Category_PRODUCTIVITY                        1.5834      0.120     13.159      0.000       1.348       1.819\n",
       "Category_SHOPPING                            1.5715      0.121     13.007      0.000       1.335       1.808\n",
       "Category_SOCIAL                              1.5773      0.121     13.079      0.000       1.341       1.814\n",
       "Category_SPORTS                              3.0838      0.239     12.878      0.000       2.614       3.553\n",
       "Category_TOOLS                               2.0965      0.227      9.227      0.000       1.651       2.542\n",
       "Category_TRAVEL_AND_LOCAL                    2.0849      0.227      9.165      0.000       1.639       2.531\n",
       "Category_VIDEO_PLAYERS                       3.0408      0.243     12.508      0.000       2.564       3.517\n",
       "Category_WEATHER                             1.5818      0.124     12.763      0.000       1.339       1.825\n",
       "Type_Paid                                   -0.0791      0.027     -2.923      0.003      -0.132      -0.026\n",
       "Content_Rating_Everyone                      1.4443      0.237      6.083      0.000       0.979       1.910\n",
       "Content_Rating_Everyone_10+                  1.4342      0.239      5.992      0.000       0.965       1.903\n",
       "Content_Rating_Mature_17+                    1.4169      0.240      5.908      0.000       0.947       1.887\n",
       "Content_Rating_Teen                          1.4389      0.238      6.050      0.000       0.973       1.905\n",
       "Content_Rating_Unrated                       1.4044      0.542      2.593      0.010       0.343       2.466\n",
       "Genres_Art_&_Design                          3.3913      0.252     13.483      0.000       2.898       3.884\n",
       "Genres_Art_&_Design_Creativity               2.4859      0.255      9.748      0.000       1.986       2.986\n",
       "Genres_Art_&_Design_Pretend_Play             3.2012      0.542      5.905      0.000       2.138       4.264\n",
       "Genres_Auto_&_Vehicles                       1.5997      0.124     12.896      0.000       1.357       1.843\n",
       "Genres_Beauty                                1.6842      0.127     13.237      0.000       1.435       1.934\n",
       "Genres_Board_Brain_Games                     0.2896      0.158      1.830      0.067      -0.021       0.600\n",
       "Genres_Books_&_Reference                     1.6478      0.121     13.598      0.000       1.410       1.885\n",
       "Genres_Business                              1.5673      0.120     13.034      0.000       1.332       1.803\n",
       "Genres_Casual                                0.0156      0.057      0.274      0.784      -0.096       0.127\n",
       "Genres_Casual_Action_&_Adventure             0.2121      0.145      1.467      0.142      -0.071       0.496\n",
       "Genres_Casual_Brain_Games                    0.4872      0.175      2.787      0.005       0.145       0.830\n",
       "Genres_Casual_Pretend_Play                   0.0817      0.109      0.749      0.454      -0.132       0.295\n",
       "Genres_Comics                                0.7946      0.185      4.293      0.000       0.432       1.157\n",
       "Genres_Comics_Creativity                     1.5376      0.336      4.575      0.000       0.879       2.196\n",
       "Genres_Communication                         1.5107      0.121     12.527      0.000       1.274       1.747\n",
       "Genres_Dating                                1.4689      0.122     12.051      0.000       1.230       1.708\n",
       "Genres_Education                             0.2976      0.047      6.344      0.000       0.206       0.390\n",
       "Genres_Education_Action_&_Adventure          0.6269      0.284      2.208      0.027       0.070       1.184\n",
       "Genres_Education_Creativity                  0.5818      0.222      2.622      0.009       0.147       1.017\n",
       "Genres_Education_Education                   0.3693      0.095      3.904      0.000       0.184       0.555\n",
       "Genres_Education_Pretend_Play                0.3649      0.115      3.163      0.002       0.139       0.591\n",
       "Genres_Educational_Education                 0.2575      0.099      2.613      0.009       0.064       0.451\n",
       "Genres_Educational_Pretend_Play              0.1596      0.135      1.185      0.236      -0.104       0.424\n",
       "Genres_Entertainment                         0.0798      0.046      1.745      0.081      -0.010       0.170\n",
       "Genres_Entertainment_Brain_Games             0.2568      0.188      1.367      0.172      -0.112       0.625\n",
       "Genres_Entertainment_Creativity              0.5180      0.347      1.493      0.136      -0.162       1.198\n",
       "Genres_Entertainment_Music_&_Video           0.2096      0.140      1.497      0.134      -0.065       0.484\n",
       "Genres_Events                                1.7090      0.126     13.576      0.000       1.462       1.956\n",
       "Genres_Finance                               1.5307      0.120     12.732      0.000       1.295       1.766\n",
       "Genres_Food_&_Drink                          1.5607      0.122     12.760      0.000       1.321       1.800\n",
       "Genres_Health_&_Fitness                      1.5907      0.120     13.216      0.000       1.355       1.827\n",
       "Genres_House_&_Home                          1.5767      0.124     12.760      0.000       1.334       1.819\n",
       "Genres_Libraries_&_Demo                      1.6165      0.124     13.014      0.000       1.373       1.860\n",
       "Genres_Lifestyle                             1.5543      0.120     12.919      0.000       1.318       1.790\n",
       "Genres_Maps_&_Navigation                     1.4831      0.122     12.154      0.000       1.244       1.722\n",
       "Genres_Medical                               1.5984      0.120     13.312      0.000       1.363       1.834\n",
       "Genres_Music_Music_&_Video                   0.5728      0.346      1.657      0.098      -0.105       1.251\n",
       "Genres_News_&_Magazines                      1.5285      0.121     12.670      0.000       1.292       1.765\n",
       "Genres_Parenting                             0.8721      0.142      6.147      0.000       0.594       1.150\n",
       "Genres_Parenting_Education                   0.6579      0.275      2.393      0.017       0.119       1.197\n",
       "Genres_Parenting_Music_&_Video               0.9437      0.236      3.996      0.000       0.481       1.407\n",
       "Genres_Personalization                       1.6409      0.120     13.638      0.000       1.405       1.877\n",
       "Genres_Photography                           1.5469      0.121     12.835      0.000       1.311       1.783\n",
       "Genres_Productivity                          1.5834      0.120     13.159      0.000       1.348       1.819\n",
       "Genres_Puzzle                                0.1945      0.059      3.276      0.001       0.078       0.311\n",
       "Genres_Puzzle_Brain_Games                    0.2867      0.130      2.200      0.028       0.031       0.542\n",
       "Genres_Racing_Action_&_Adventure             0.2683      0.135      1.992      0.046       0.004       0.532\n",
       "Genres_Role_Playing                          0.0162      0.063      0.258      0.797      -0.107       0.139\n",
       "Genres_Shopping                              1.5715      0.121     13.007      0.000       1.335       1.808\n",
       "Genres_Simulation                            0.0251      0.053      0.474      0.635      -0.078       0.129\n",
       "Genres_Simulation_Action_&_Adventure         0.2541      0.165      1.538      0.124      -0.070       0.578\n",
       "Genres_Social                                1.5773      0.121     13.079      0.000       1.341       1.814\n",
       "Genres_Tools                                 0.9687      0.181      5.347      0.000       0.614       1.324\n",
       "Genres_Tools_Education                       1.1278      0.334      3.377      0.001       0.473       1.783\n",
       "Genres_Travel_&_Local                        0.9922      0.183      5.435      0.000       0.634       1.350\n",
       "Genres_Travel_&_Local_Action_&_Adventure     1.0927      0.334      3.271      0.001       0.438       1.748\n",
       "Genres_Weather                               1.5818      0.124     12.763      0.000       1.339       1.825\n",
       "==============================================================================\n",
       "Omnibus:                     2310.938   Durbin-Watson:                   2.021\n",
       "Prob(Omnibus):                  0.000   Jarque-Bera (JB):            13517.226\n",
       "Skew:                          -1.671   Prob(JB):                         0.00\n",
       "Kurtosis:                       9.406   Cond. No.                     1.23e+16\n",
       "==============================================================================\n",
       "\n",
       "Notes:\n",
       "[1] R² is computed without centering (uncentered) since the model does not contain a constant.\n",
       "[2] Standard Errors assume that the covariance matrix of the errors is correctly specified.\n",
       "[3] The smallest eigenvalue is 9.48e-27. This might indicate that there are\n",
       "strong multicollinearity problems or that the design matrix is singular.\n",
       "\"\"\""
      ]
     },
     "execution_count": 59,
     "metadata": {},
     "output_type": "execute_result"
    }
   ],
   "source": [
    "model2.summary()"
   ]
  },
  {
   "cell_type": "code",
   "execution_count": 60,
   "id": "ef33478d-eef7-4a0f-83ec-33c3b13adb8b",
   "metadata": {},
   "outputs": [
    {
     "name": "stdout",
     "output_type": "stream",
     "text": [
      "0.4910279211996329\n"
     ]
    }
   ],
   "source": [
    "import sklearn.metrics as metrics\n",
    "y_test_pred1= model2.predict(x_test1)\n",
    "print(np.sqrt(metrics.mean_squared_error(y_test, y_test_pred1)))\n",
    "\n",
    "\n",
    "#RMSE value of model1 = 0.49203326281981113 "
   ]
  },
  {
   "cell_type": "code",
   "execution_count": 61,
   "id": "dad1aada-91bc-46a8-89d4-8848bfc2efad",
   "metadata": {},
   "outputs": [
    {
     "name": "stdout",
     "output_type": "stream",
     "text": [
      "MAPE: 9.467683724566344\n"
     ]
    }
   ],
   "source": [
    "#Calculating MAPE\n",
    "def MAPE(y_test_pred1,y_test1):\n",
    "    return np.mean(np.abs((y_test1 - y_test_pred1) / y_test1)) * 100\n",
    "print ('MAPE: ' + str(MAPE(y_test_pred1,y_test1)) )"
   ]
  },
  {
   "cell_type": "code",
   "execution_count": 62,
   "id": "262e7dc1-fbf8-43b4-8190-1899de10e71f",
   "metadata": {},
   "outputs": [
    {
     "name": "stdout",
     "output_type": "stream",
     "text": [
      "Linear Regression: google play store data Prediction: \n",
      "R-squared on Train data: 0.16526079193727206\n",
      "Linear Regressor Model Accuracy on Test data: 13.320784 %\n",
      "\n",
      "MAE: 0.3315946361570967\n",
      "MSE: 0.3315946361570967\n",
      "RMSE: 0.11918125627778683\n",
      "\n"
     ]
    }
   ],
   "source": [
    "print(\"Linear Regression: google play store data Prediction: \")\n",
    "lin_reg = LinearRegression()\n",
    "lin_reg.fit(x_train1, y_train1)\n",
    "lin_score = lin_reg.score(x_train1, y_train1)\n",
    "print(\"R-squared on Train data:\", lin_score)\n",
    "\n",
    "lin_y_pred = lin_reg.predict(x_test1)\n",
    "lin_accuracy = explained_variance_score(y_test1, lin_y_pred1)\n",
    "lin_accuracy = round(lin_accuracy*100, 6)\n",
    "print(\"Linear Regressor Model Accuracy on Test data:\", lin_accuracy, \"%\")\n",
    "print()\n",
    "\n",
    "lin_mae = mean_absolute_error(y_test1, lin_y_pred1)\n",
    "lin_mse = mean_squared_error(y_test1, lin_y_pred1)\n",
    "lin_rmse = lin_mse*(1/2.0)\n",
    "\n",
    "print(\"MAE:\", lin_mae)\n",
    "print(\"MSE:\", lin_mae)\n",
    "print(\"RMSE:\", lin_rmse)\n",
    "print()"
   ]
  },
  {
   "cell_type": "code",
   "execution_count": 63,
   "id": "0d26b808-09e6-4885-bbab-52d387ac84a4",
   "metadata": {},
   "outputs": [
    {
     "data": {
      "image/png": "[encoded data removed]",
      "text/plain": [
       "<Figure size 432x288 with 1 Axes>"
      ]
     },
     "metadata": {
      "needs_background": "light"
     },
     "output_type": "display_data"
    }
   ],
   "source": [
    "plt.scatter(y_test1, lin_y_pred1)\n",
    "plt.grid()\n",
    "plt.xlabel('Actual Y')\n",
    "plt.ylabel('Predicted Y')\n",
    "plt.title('Actual vs. Predicted Target')\n",
    "plt.show()"
   ]
  },
  {
   "cell_type": "code",
   "execution_count": 64,
   "id": "d4b67ed6-00f9-49a8-8629-95b5ef13960a",
   "metadata": {},
   "outputs": [
    {
     "data": {
      "image/png": "[encoded data removed]",
      "text/plain": [
       "<Figure size 432x288 with 1 Axes>"
      ]
     },
     "metadata": {
      "needs_background": "light"
     },
     "output_type": "display_data"
    }
   ],
   "source": [
    "x_ax = range(len(y_test1))\n",
    "plt.plot(x_ax, y_test1, label=\"original\")\n",
    "plt.plot(x_ax, lin_y_pred1, label=\"predicted\")\n",
    "plt.title(\"Test vs. Predicted Data\")\n",
    "plt.xlabel('X-axis')\n",
    "plt.ylabel('Y-axis')\n",
    "plt.legend(loc='best',fancybox=True, shadow=True)\n",
    "plt.grid(True)\n",
    "plt.show()"
   ]
  },
  {
   "cell_type": "code",
   "execution_count": 65,
   "id": "8ff0d736-8d3e-490d-b517-9bc18a1c7d8f",
   "metadata": {},
   "outputs": [
    {
     "name": "stdout",
     "output_type": "stream",
     "text": [
      "SGD Regression:Google play store data Prediction\n",
      "R-squared on Train: -4.102269405989349e+35\n",
      "SGD Regressor Model Accuracy on Test: -2.1959302292763927e+37 %\n",
      "\n",
      "MAE: 2.3940196670427005e+17\n",
      "MSE: 1.1762296046780177e+35\n",
      "RMSE: 5.881148023390088e+34\n",
      "\n"
     ]
    }
   ],
   "source": [
    "print(\"SGD Regression:Google play store data Prediction\")\n",
    "sgd_reg = SGDRegressor()\n",
    "sgd_reg.fit(x_train1, y_train1)\n",
    "sgd_score = sgd_reg.score(x_train1, y_train1)\n",
    "print(\"R-squared on Train:\", sgd_score)\n",
    "\n",
    "sgd_y_pred = sgd_reg.predict(x_test1)\n",
    "sgd_accuracy = explained_variance_score(y_test1, sgd_y_pred1)\n",
    "sgd_accuracy = round(sgd_accuracy*100, 6)\n",
    "print(\"SGD Regressor Model Accuracy on Test:\", sgd_accuracy, \"%\")\n",
    "print()\n",
    "\n",
    "sgd_mae = mean_absolute_error(y_test1, sgd_y_pred)\n",
    "sgd_mse = mean_squared_error(y_test, sgd_y_pred)\n",
    "sgd_rmse = sgd_mse*(1/2.0)\n",
    "\n",
    "print(\"MAE:\", sgd_mae)\n",
    "print(\"MSE:\", sgd_mse)\n",
    "print(\"RMSE:\", sgd_rmse)\n",
    "print()"
   ]
  },
  {
   "cell_type": "code",
   "execution_count": 66,
   "id": "66c658b9-4da5-425a-9254-38aa1506302b",
   "metadata": {},
   "outputs": [
    {
     "data": {
      "image/png": "[encoded data removed]",
      "text/plain": [
       "<Figure size 432x288 with 1 Axes>"
      ]
     },
     "metadata": {
      "needs_background": "light"
     },
     "output_type": "display_data"
    }
   ],
   "source": [
    "plt.scatter(y_test, sgd_y_pred)\n",
    "plt.grid()\n",
    "plt.xlabel('Actual Y')\n",
    "plt.ylabel('Predicted Y')\n",
    "plt.title('Actual vs. Predicted Target')\n",
    "plt.show()"
   ]
  },
  {
   "cell_type": "code",
   "execution_count": 67,
   "id": "d218cbdb-44e1-4da5-99d1-358b1f29b188",
   "metadata": {},
   "outputs": [
    {
     "data": {
      "image/png": "[encoded data removed]",
      "text/plain": [
       "<Figure size 432x288 with 1 Axes>"
      ]
     },
     "metadata": {
      "needs_background": "light"
     },
     "output_type": "display_data"
    }
   ],
   "source": [
    "x_ax = range(len(y_test))\n",
    "plt.plot(x_ax, y_test, label=\"original\")\n",
    "plt.plot(x_ax, sgd_y_pred, label=\"predicted\")\n",
    "plt.title(\"Test vs. Predicted Data\")\n",
    "plt.xlabel('X-axis')\n",
    "plt.ylabel('Y-axis')\n",
    "plt.legend(loc='best',fancybox=True, shadow=True)\n",
    "plt.grid(True)\n",
    "plt.show()"
   ]
  },
  {
   "cell_type": "code",
   "execution_count": 68,
   "id": "540b42ba-9a65-4041-a34f-3ed889cb7740",
   "metadata": {},
   "outputs": [
    {
     "name": "stdout",
     "output_type": "stream",
     "text": [
      "+----+---------------------------+------------+--------------+\n",
      "|    | Comparison Matrix         | LR Model   | SGD Model    |\n",
      "|----+---------------------------+------------+--------------|\n",
      "| 0  | Accuracy (Variance Score) | 13.3208    | -2.19593e+37 |\n",
      "| 1  | R2 Score                  | 0.165261   | -4.10227e+35 |\n",
      "| 2  | MAE                       | 0.331595   | 2.39402e+17  |\n",
      "| 3  | MSE                       | 0.238363   | 1.17623e+35  |\n",
      "| 4  | RMSE                      | 0.119181   | 5.88115e+34  |\n",
      "+----+---------------------------+------------+--------------+\n"
     ]
    }
   ],
   "source": [
    "model_table = pd.DataFrame(columns = [\"Comparison Matrix\", \"LR Model\", \"SGD Model\"])\n",
    "model_table[\"Comparison Matrix\"] = [\"Accuracy (Variance Score)\", \"R2 Score\", \"MAE\", \"MSE\", \"RMSE\"]\n",
    "model_table[\"LR Model\"] = [lin_accuracy, lin_score, lin_mae, lin_mse, lin_rmse]\n",
    "model_table[\"SGD Model\"] = [sgd_accuracy, sgd_score, sgd_mae, sgd_mse, sgd_rmse]\n",
    "\n",
    "print(tabulate(model_table, headers = 'keys', tablefmt = 'psql', numalign=\"left\"))"
   ]
  },
  {
   "cell_type": "code",
   "execution_count": null,
   "id": "e6c0a0aa-3238-4978-8bcc-14fe3aad8653",
   "metadata": {},
   "outputs": [],
   "source": []
  }
 ],
 "metadata": {
  "kernelspec": {
   "display_name": "Python 3 [3.10]",
   "language": "python",
   "name": "python3"
  },
  "language_info": {
   "codemirror_mode": {
    "name": "ipython",
    "version": 3
   },
   "file_extension": ".py",
   "mimetype": "text/x-python",
   "name": "python",
   "nbconvert_exporter": "python",
   "pygments_lexer": "ipython3",
   "version": "3.10.2"
  }
 },
 "nbformat": 4,
 "nbformat_minor": 5
}
